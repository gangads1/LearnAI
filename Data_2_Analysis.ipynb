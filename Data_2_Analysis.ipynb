{
 "cells": [
  {
   "cell_type": "markdown",
   "id": "05b6c021",
   "metadata": {},
   "source": [
    "### Import libraries"
   ]
  },
  {
   "cell_type": "code",
   "execution_count": 1,
   "id": "826f5c20",
   "metadata": {},
   "outputs": [],
   "source": [
    "import pandas as pd\n",
    "import numpy as np\n",
    "import matplotlib.pyplot as plt\n",
    "%matplotlib inline\n",
    "import seaborn as sns\n",
    "\n",
    "\n",
    "import warnings\n",
    "warnings.filterwarnings(action='ignore')"
   ]
  },
  {
   "cell_type": "markdown",
   "id": "76b8dcda",
   "metadata": {},
   "source": [
    "#### Required Libraries are imported for the data analysis purpose"
   ]
  },
  {
   "cell_type": "markdown",
   "id": "066081ee",
   "metadata": {},
   "source": [
    "### MySQL connection"
   ]
  },
  {
   "cell_type": "code",
   "execution_count": 2,
   "id": "d81268a2",
   "metadata": {},
   "outputs": [],
   "source": [
    "import mysql.connector as mysql\n",
    "from mysql.connector import Error\n",
    "try:\n",
    "    conn = mysql.connect(host='localhost', user='root', password='root')\n",
    "    \n",
    "    if conn.is_connected():\n",
    "        cursor = conn.cursor()\n",
    "        \n",
    "\n",
    "except Error as e:\n",
    "    print(\"Error while connecting to MySql\", e)"
   ]
  },
  {
   "cell_type": "markdown",
   "id": "97e1cd3e",
   "metadata": {},
   "source": [
    "#### Connect to the MySQL database to import the necessary dataset."
   ]
  },
  {
   "cell_type": "code",
   "execution_count": 3,
   "id": "52212340",
   "metadata": {},
   "outputs": [
    {
     "data": {
      "text/html": [
       "<div>\n",
       "<style scoped>\n",
       "    .dataframe tbody tr th:only-of-type {\n",
       "        vertical-align: middle;\n",
       "    }\n",
       "\n",
       "    .dataframe tbody tr th {\n",
       "        vertical-align: top;\n",
       "    }\n",
       "\n",
       "    .dataframe thead th {\n",
       "        text-align: right;\n",
       "    }\n",
       "</style>\n",
       "<table border=\"1\" class=\"dataframe\">\n",
       "  <thead>\n",
       "    <tr style=\"text-align: right;\">\n",
       "      <th></th>\n",
       "      <th>Id</th>\n",
       "      <th>SepalLengthCm</th>\n",
       "      <th>SepalWidthCm</th>\n",
       "    </tr>\n",
       "  </thead>\n",
       "  <tbody>\n",
       "    <tr>\n",
       "      <th>0</th>\n",
       "      <td>1</td>\n",
       "      <td>5.1</td>\n",
       "      <td>Three dot Five</td>\n",
       "    </tr>\n",
       "    <tr>\n",
       "      <th>1</th>\n",
       "      <td>2</td>\n",
       "      <td>4.9</td>\n",
       "      <td>3.5</td>\n",
       "    </tr>\n",
       "    <tr>\n",
       "      <th>2</th>\n",
       "      <td>3</td>\n",
       "      <td>4.7</td>\n",
       "      <td>3.Five</td>\n",
       "    </tr>\n",
       "    <tr>\n",
       "      <th>3</th>\n",
       "      <td>4</td>\n",
       "      <td>4.6</td>\n",
       "      <td>3</td>\n",
       "    </tr>\n",
       "    <tr>\n",
       "      <th>4</th>\n",
       "      <td>5</td>\n",
       "      <td>5.0</td>\n",
       "      <td>3</td>\n",
       "    </tr>\n",
       "    <tr>\n",
       "      <th>...</th>\n",
       "      <td>...</td>\n",
       "      <td>...</td>\n",
       "      <td>...</td>\n",
       "    </tr>\n",
       "    <tr>\n",
       "      <th>145</th>\n",
       "      <td>146</td>\n",
       "      <td>6.7</td>\n",
       "      <td>3</td>\n",
       "    </tr>\n",
       "    <tr>\n",
       "      <th>146</th>\n",
       "      <td>147</td>\n",
       "      <td>6.3</td>\n",
       "      <td>2.5</td>\n",
       "    </tr>\n",
       "    <tr>\n",
       "      <th>147</th>\n",
       "      <td>148</td>\n",
       "      <td>6.5</td>\n",
       "      <td>3</td>\n",
       "    </tr>\n",
       "    <tr>\n",
       "      <th>148</th>\n",
       "      <td>149</td>\n",
       "      <td>6.2</td>\n",
       "      <td>3.4</td>\n",
       "    </tr>\n",
       "    <tr>\n",
       "      <th>149</th>\n",
       "      <td>150</td>\n",
       "      <td>5.9</td>\n",
       "      <td>3</td>\n",
       "    </tr>\n",
       "  </tbody>\n",
       "</table>\n",
       "<p>150 rows × 3 columns</p>\n",
       "</div>"
      ],
      "text/plain": [
       "      Id  SepalLengthCm    SepalWidthCm\n",
       "0      1            5.1  Three dot Five\n",
       "1      2            4.9             3.5\n",
       "2      3            4.7          3.Five\n",
       "3      4            4.6               3\n",
       "4      5            5.0               3\n",
       "..   ...            ...             ...\n",
       "145  146            6.7               3\n",
       "146  147            6.3             2.5\n",
       "147  148            6.5               3\n",
       "148  149            6.2             3.4\n",
       "149  150            5.9               3\n",
       "\n",
       "[150 rows x 3 columns]"
      ]
     },
     "execution_count": 3,
     "metadata": {},
     "output_type": "execute_result"
    }
   ],
   "source": [
    "# import data from SQL\n",
    "\n",
    "df2 = pd.read_sql(\"SELECT * From iris.d2\", conn)\n",
    "df2"
   ]
  },
  {
   "cell_type": "code",
   "execution_count": 4,
   "id": "8a608b6e",
   "metadata": {},
   "outputs": [
    {
     "data": {
      "text/html": [
       "<div>\n",
       "<style scoped>\n",
       "    .dataframe tbody tr th:only-of-type {\n",
       "        vertical-align: middle;\n",
       "    }\n",
       "\n",
       "    .dataframe tbody tr th {\n",
       "        vertical-align: top;\n",
       "    }\n",
       "\n",
       "    .dataframe thead th {\n",
       "        text-align: right;\n",
       "    }\n",
       "</style>\n",
       "<table border=\"1\" class=\"dataframe\">\n",
       "  <thead>\n",
       "    <tr style=\"text-align: right;\">\n",
       "      <th></th>\n",
       "      <th>Id</th>\n",
       "      <th>SepalLengthCm</th>\n",
       "      <th>SepalWidthCm</th>\n",
       "    </tr>\n",
       "  </thead>\n",
       "  <tbody>\n",
       "    <tr>\n",
       "      <th>0</th>\n",
       "      <td>1</td>\n",
       "      <td>5.1</td>\n",
       "      <td>Three dot Five</td>\n",
       "    </tr>\n",
       "    <tr>\n",
       "      <th>1</th>\n",
       "      <td>2</td>\n",
       "      <td>4.9</td>\n",
       "      <td>3.5</td>\n",
       "    </tr>\n",
       "    <tr>\n",
       "      <th>2</th>\n",
       "      <td>3</td>\n",
       "      <td>4.7</td>\n",
       "      <td>3.Five</td>\n",
       "    </tr>\n",
       "    <tr>\n",
       "      <th>3</th>\n",
       "      <td>4</td>\n",
       "      <td>4.6</td>\n",
       "      <td>3</td>\n",
       "    </tr>\n",
       "    <tr>\n",
       "      <th>4</th>\n",
       "      <td>5</td>\n",
       "      <td>5.0</td>\n",
       "      <td>3</td>\n",
       "    </tr>\n",
       "  </tbody>\n",
       "</table>\n",
       "</div>"
      ],
      "text/plain": [
       "   Id  SepalLengthCm    SepalWidthCm\n",
       "0   1            5.1  Three dot Five\n",
       "1   2            4.9             3.5\n",
       "2   3            4.7          3.Five\n",
       "3   4            4.6               3\n",
       "4   5            5.0               3"
      ]
     },
     "execution_count": 4,
     "metadata": {},
     "output_type": "execute_result"
    }
   ],
   "source": [
    "# check first five rows of the dataset\n",
    "\n",
    "df2.head()"
   ]
  },
  {
   "cell_type": "code",
   "execution_count": 5,
   "id": "3c9ec076",
   "metadata": {},
   "outputs": [
    {
     "data": {
      "text/html": [
       "<div>\n",
       "<style scoped>\n",
       "    .dataframe tbody tr th:only-of-type {\n",
       "        vertical-align: middle;\n",
       "    }\n",
       "\n",
       "    .dataframe tbody tr th {\n",
       "        vertical-align: top;\n",
       "    }\n",
       "\n",
       "    .dataframe thead th {\n",
       "        text-align: right;\n",
       "    }\n",
       "</style>\n",
       "<table border=\"1\" class=\"dataframe\">\n",
       "  <thead>\n",
       "    <tr style=\"text-align: right;\">\n",
       "      <th></th>\n",
       "      <th>Id</th>\n",
       "      <th>SepalLengthCm</th>\n",
       "      <th>SepalWidthCm</th>\n",
       "    </tr>\n",
       "  </thead>\n",
       "  <tbody>\n",
       "    <tr>\n",
       "      <th>145</th>\n",
       "      <td>146</td>\n",
       "      <td>6.7</td>\n",
       "      <td>3</td>\n",
       "    </tr>\n",
       "    <tr>\n",
       "      <th>146</th>\n",
       "      <td>147</td>\n",
       "      <td>6.3</td>\n",
       "      <td>2.5</td>\n",
       "    </tr>\n",
       "    <tr>\n",
       "      <th>147</th>\n",
       "      <td>148</td>\n",
       "      <td>6.5</td>\n",
       "      <td>3</td>\n",
       "    </tr>\n",
       "    <tr>\n",
       "      <th>148</th>\n",
       "      <td>149</td>\n",
       "      <td>6.2</td>\n",
       "      <td>3.4</td>\n",
       "    </tr>\n",
       "    <tr>\n",
       "      <th>149</th>\n",
       "      <td>150</td>\n",
       "      <td>5.9</td>\n",
       "      <td>3</td>\n",
       "    </tr>\n",
       "  </tbody>\n",
       "</table>\n",
       "</div>"
      ],
      "text/plain": [
       "      Id  SepalLengthCm SepalWidthCm\n",
       "145  146            6.7            3\n",
       "146  147            6.3          2.5\n",
       "147  148            6.5            3\n",
       "148  149            6.2          3.4\n",
       "149  150            5.9            3"
      ]
     },
     "execution_count": 5,
     "metadata": {},
     "output_type": "execute_result"
    }
   ],
   "source": [
    "# check last five rows of the dataset\n",
    "\n",
    "df2.tail()"
   ]
  },
  {
   "cell_type": "code",
   "execution_count": 6,
   "id": "c8396ebd",
   "metadata": {},
   "outputs": [
    {
     "data": {
      "text/plain": [
       "Id                 int64\n",
       "SepalLengthCm    float64\n",
       "SepalWidthCm      object\n",
       "dtype: object"
      ]
     },
     "execution_count": 6,
     "metadata": {},
     "output_type": "execute_result"
    }
   ],
   "source": [
    "# checking data type of the dataset\n",
    "\n",
    "df2.dtypes"
   ]
  },
  {
   "cell_type": "markdown",
   "id": "a8c63e4a",
   "metadata": {},
   "source": [
    "### Observation: \n",
    "#### Dataset contains id column with integer data type, SepalLengthCM float data type and SepallWidthCm are object data types"
   ]
  },
  {
   "cell_type": "code",
   "execution_count": 7,
   "id": "ec7a1113",
   "metadata": {},
   "outputs": [
    {
     "data": {
      "text/plain": [
       "(150, 3)"
      ]
     },
     "execution_count": 7,
     "metadata": {},
     "output_type": "execute_result"
    }
   ],
   "source": [
    "# check the shape of the dataset\n",
    "\n",
    "df2.shape"
   ]
  },
  {
   "cell_type": "code",
   "execution_count": 8,
   "id": "9c851d8d",
   "metadata": {},
   "outputs": [
    {
     "name": "stdout",
     "output_type": "stream",
     "text": [
      "Number of rows: 150\n",
      "Number of columns: 3\n"
     ]
    }
   ],
   "source": [
    "print(\"Number of rows:\",df2.shape[0])\n",
    "print(\"Number of columns:\",df2.shape[1])"
   ]
  },
  {
   "cell_type": "code",
   "execution_count": 9,
   "id": "bbe8509e",
   "metadata": {},
   "outputs": [
    {
     "data": {
      "text/plain": [
       "Index(['Id', 'SepalLengthCm', 'SepalWidthCm'], dtype='object')"
      ]
     },
     "execution_count": 9,
     "metadata": {},
     "output_type": "execute_result"
    }
   ],
   "source": [
    "# columns of the dataset\n",
    "\n",
    "df2.columns"
   ]
  },
  {
   "cell_type": "code",
   "execution_count": 10,
   "id": "3f42ac5e",
   "metadata": {},
   "outputs": [
    {
     "name": "stdout",
     "output_type": "stream",
     "text": [
      "<class 'pandas.core.frame.DataFrame'>\n",
      "RangeIndex: 150 entries, 0 to 149\n",
      "Data columns (total 3 columns):\n",
      " #   Column         Non-Null Count  Dtype  \n",
      "---  ------         --------------  -----  \n",
      " 0   Id             150 non-null    int64  \n",
      " 1   SepalLengthCm  150 non-null    float64\n",
      " 2   SepalWidthCm   150 non-null    object \n",
      "dtypes: float64(1), int64(1), object(1)\n",
      "memory usage: 3.6+ KB\n"
     ]
    }
   ],
   "source": [
    "# info of the dataset\n",
    "\n",
    "df2.info()"
   ]
  },
  {
   "cell_type": "markdown",
   "id": "0f99407f",
   "metadata": {},
   "source": [
    "### Observation: \n",
    "#### There are 150 rows & 3 columns in the dataset, memory usage for the dataset is 3.6kb. int, float and object are the datatypes"
   ]
  },
  {
   "cell_type": "code",
   "execution_count": 11,
   "id": "d36d174a",
   "metadata": {},
   "outputs": [
    {
     "data": {
      "text/html": [
       "<div>\n",
       "<style scoped>\n",
       "    .dataframe tbody tr th:only-of-type {\n",
       "        vertical-align: middle;\n",
       "    }\n",
       "\n",
       "    .dataframe tbody tr th {\n",
       "        vertical-align: top;\n",
       "    }\n",
       "\n",
       "    .dataframe thead th {\n",
       "        text-align: right;\n",
       "    }\n",
       "</style>\n",
       "<table border=\"1\" class=\"dataframe\">\n",
       "  <thead>\n",
       "    <tr style=\"text-align: right;\">\n",
       "      <th></th>\n",
       "      <th>count</th>\n",
       "      <th>unique</th>\n",
       "      <th>top</th>\n",
       "      <th>freq</th>\n",
       "      <th>mean</th>\n",
       "      <th>std</th>\n",
       "      <th>min</th>\n",
       "      <th>25%</th>\n",
       "      <th>50%</th>\n",
       "      <th>75%</th>\n",
       "      <th>max</th>\n",
       "    </tr>\n",
       "  </thead>\n",
       "  <tbody>\n",
       "    <tr>\n",
       "      <th>Id</th>\n",
       "      <td>150.0</td>\n",
       "      <td>NaN</td>\n",
       "      <td>NaN</td>\n",
       "      <td>NaN</td>\n",
       "      <td>75.5</td>\n",
       "      <td>43.445368</td>\n",
       "      <td>1.0</td>\n",
       "      <td>38.25</td>\n",
       "      <td>75.5</td>\n",
       "      <td>112.75</td>\n",
       "      <td>150.0</td>\n",
       "    </tr>\n",
       "    <tr>\n",
       "      <th>SepalLengthCm</th>\n",
       "      <td>150.0</td>\n",
       "      <td>NaN</td>\n",
       "      <td>NaN</td>\n",
       "      <td>NaN</td>\n",
       "      <td>5.843333</td>\n",
       "      <td>0.828066</td>\n",
       "      <td>4.3</td>\n",
       "      <td>5.1</td>\n",
       "      <td>5.8</td>\n",
       "      <td>6.4</td>\n",
       "      <td>7.9</td>\n",
       "    </tr>\n",
       "    <tr>\n",
       "      <th>SepalWidthCm</th>\n",
       "      <td>150</td>\n",
       "      <td>29</td>\n",
       "      <td>3</td>\n",
       "      <td>27</td>\n",
       "      <td>NaN</td>\n",
       "      <td>NaN</td>\n",
       "      <td>NaN</td>\n",
       "      <td>NaN</td>\n",
       "      <td>NaN</td>\n",
       "      <td>NaN</td>\n",
       "      <td>NaN</td>\n",
       "    </tr>\n",
       "  </tbody>\n",
       "</table>\n",
       "</div>"
      ],
      "text/plain": [
       "               count unique  top freq      mean        std  min    25%   50%   \n",
       "Id             150.0    NaN  NaN  NaN      75.5  43.445368  1.0  38.25  75.5  \\\n",
       "SepalLengthCm  150.0    NaN  NaN  NaN  5.843333   0.828066  4.3    5.1   5.8   \n",
       "SepalWidthCm     150     29    3   27       NaN        NaN  NaN    NaN   NaN   \n",
       "\n",
       "                  75%    max  \n",
       "Id             112.75  150.0  \n",
       "SepalLengthCm     6.4    7.9  \n",
       "SepalWidthCm      NaN    NaN  "
      ]
     },
     "execution_count": 11,
     "metadata": {},
     "output_type": "execute_result"
    }
   ],
   "source": [
    "# overall statistics of the dataset\n",
    "\n",
    "df2.describe(include='all').T"
   ]
  },
  {
   "cell_type": "code",
   "execution_count": 12,
   "id": "b6f133ca",
   "metadata": {},
   "outputs": [
    {
     "data": {
      "text/plain": [
       "Id               0\n",
       "SepalLengthCm    0\n",
       "SepalWidthCm     0\n",
       "dtype: int64"
      ]
     },
     "execution_count": 12,
     "metadata": {},
     "output_type": "execute_result"
    }
   ],
   "source": [
    "# Null values\n",
    "\n",
    "df2.isnull().sum()"
   ]
  },
  {
   "cell_type": "code",
   "execution_count": 13,
   "id": "3e15e885",
   "metadata": {},
   "outputs": [
    {
     "data": {
      "text/html": [
       "<div>\n",
       "<style scoped>\n",
       "    .dataframe tbody tr th:only-of-type {\n",
       "        vertical-align: middle;\n",
       "    }\n",
       "\n",
       "    .dataframe tbody tr th {\n",
       "        vertical-align: top;\n",
       "    }\n",
       "\n",
       "    .dataframe thead th {\n",
       "        text-align: right;\n",
       "    }\n",
       "</style>\n",
       "<table border=\"1\" class=\"dataframe\">\n",
       "  <thead>\n",
       "    <tr style=\"text-align: right;\">\n",
       "      <th></th>\n",
       "      <th>Id</th>\n",
       "      <th>SepalLengthCm</th>\n",
       "      <th>SepalWidthCm</th>\n",
       "    </tr>\n",
       "  </thead>\n",
       "  <tbody>\n",
       "  </tbody>\n",
       "</table>\n",
       "</div>"
      ],
      "text/plain": [
       "Empty DataFrame\n",
       "Columns: [Id, SepalLengthCm, SepalWidthCm]\n",
       "Index: []"
      ]
     },
     "execution_count": 13,
     "metadata": {},
     "output_type": "execute_result"
    }
   ],
   "source": [
    "# check duplicated values any\n",
    "\n",
    "df2[df2.duplicated()]"
   ]
  },
  {
   "cell_type": "markdown",
   "id": "4c272be8",
   "metadata": {},
   "source": [
    "####  Observation: There are no duplicated values in the dataset"
   ]
  },
  {
   "cell_type": "code",
   "execution_count": 14,
   "id": "4465e2bf",
   "metadata": {},
   "outputs": [
    {
     "data": {
      "text/plain": [
       "0"
      ]
     },
     "execution_count": 14,
     "metadata": {},
     "output_type": "execute_result"
    }
   ],
   "source": [
    "df2.duplicated().sum()"
   ]
  },
  {
   "cell_type": "markdown",
   "id": "4bb716ec",
   "metadata": {},
   "source": [
    "### Value_counts"
   ]
  },
  {
   "cell_type": "code",
   "execution_count": 15,
   "id": "6829a04a",
   "metadata": {},
   "outputs": [
    {
     "data": {
      "text/plain": [
       "SepalLengthCm\n",
       "5.0    10\n",
       "5.1     9\n",
       "6.3     9\n",
       "5.7     8\n",
       "6.7     8\n",
       "5.8     7\n",
       "5.5     7\n",
       "6.4     7\n",
       "4.9     6\n",
       "5.4     6\n",
       "6.1     6\n",
       "6.0     6\n",
       "5.6     6\n",
       "4.8     5\n",
       "6.5     5\n",
       "6.2     4\n",
       "7.7     4\n",
       "6.9     4\n",
       "4.6     4\n",
       "5.2     4\n",
       "5.9     3\n",
       "4.4     3\n",
       "7.2     3\n",
       "6.8     3\n",
       "6.6     2\n",
       "4.7     2\n",
       "7.6     1\n",
       "7.4     1\n",
       "7.3     1\n",
       "7.0     1\n",
       "7.1     1\n",
       "5.3     1\n",
       "4.3     1\n",
       "4.5     1\n",
       "7.9     1\n",
       "Name: count, dtype: int64"
      ]
     },
     "execution_count": 15,
     "metadata": {},
     "output_type": "execute_result"
    }
   ],
   "source": [
    "# value counts of dataset\n",
    "\n",
    "df2['SepalLengthCm'].value_counts()"
   ]
  },
  {
   "cell_type": "code",
   "execution_count": 16,
   "id": "df8a516e",
   "metadata": {},
   "outputs": [
    {
     "data": {
      "text/plain": [
       "SepalWidthCm\n",
       "3                 27\n",
       "2.8               14\n",
       "3.2               12\n",
       "3.1               11\n",
       "3.4               10\n",
       "2.7                9\n",
       "2.9                9\n",
       "2.5                8\n",
       "3.8                6\n",
       "3.5                6\n",
       "3.3                6\n",
       "2.6                5\n",
       "2.3                4\n",
       "2.4                3\n",
       "3.7                3\n",
       "2.2                3\n",
       "3.6                2\n",
       "3.Five             1\n",
       "2                  1\n",
       "Three              1\n",
       "Three.five         1\n",
       "4.4                1\n",
       "THREE Five         1\n",
       "3.9                1\n",
       "4.2                1\n",
       "4.1                1\n",
       "3.$                1\n",
       "4                  1\n",
       "Three dot Five     1\n",
       "Name: count, dtype: int64"
      ]
     },
     "execution_count": 16,
     "metadata": {},
     "output_type": "execute_result"
    }
   ],
   "source": [
    "df2['SepalWidthCm'].value_counts()"
   ]
  },
  {
   "cell_type": "markdown",
   "id": "2b5bc794",
   "metadata": {},
   "source": [
    "### Unique values in the dataset"
   ]
  },
  {
   "cell_type": "code",
   "execution_count": 17,
   "id": "9f1cc616",
   "metadata": {},
   "outputs": [
    {
     "name": "stdout",
     "output_type": "stream",
     "text": [
      "Number of unique values present in SepalLength: 35\n"
     ]
    }
   ],
   "source": [
    "# check number unique values in the SepalLength feature\n",
    "\n",
    "print(f\"Number of unique values present in SepalLength: {df2['SepalLengthCm'].nunique()}\")"
   ]
  },
  {
   "cell_type": "code",
   "execution_count": 18,
   "id": "35338af5",
   "metadata": {},
   "outputs": [
    {
     "data": {
      "text/plain": [
       "array([5.1, 4.9, 4.7, 4.6, 5. , 5.4, 4.4, 4.8, 4.3, 5.8, 5.7, 5.2, 5.5,\n",
       "       4.5, 5.3, 7. , 6.4, 6.9, 6.5, 6.3, 6.6, 5.9, 6. , 6.1, 5.6, 6.7,\n",
       "       6.2, 6.8, 7.1, 7.6, 7.3, 7.2, 7.7, 7.4, 7.9])"
      ]
     },
     "execution_count": 18,
     "metadata": {},
     "output_type": "execute_result"
    }
   ],
   "source": [
    "# check the unique values\n",
    "\n",
    "df2['SepalLengthCm'].unique()"
   ]
  },
  {
   "cell_type": "code",
   "execution_count": 19,
   "id": "11efa182",
   "metadata": {},
   "outputs": [
    {
     "name": "stdout",
     "output_type": "stream",
     "text": [
      "Number of unique values present in SepalWidth: 29\n"
     ]
    }
   ],
   "source": [
    "# check number unique values in the SepalWidth feature\n",
    "\n",
    "print(f\"Number of unique values present in SepalWidth: {df2['SepalWidthCm'].nunique()}\")"
   ]
  },
  {
   "cell_type": "code",
   "execution_count": 20,
   "id": "5cf5b9fd",
   "metadata": {},
   "outputs": [
    {
     "data": {
      "text/plain": [
       "array(['Three dot Five', '3.5', '3.Five', '3', 'Three', 'Three.five',\n",
       "       'THREE Five', '3.$', '3.1', '3.7', '3.4', '4', '4.4', '3.9', '3.8',\n",
       "       '3.6', '3.3', '3.2', '4.1', '4.2', '2.3', '2.8', '2.4', '2.9',\n",
       "       '2.7', '2', '2.2', '2.5', '2.6'], dtype=object)"
      ]
     },
     "execution_count": 20,
     "metadata": {},
     "output_type": "execute_result"
    }
   ],
   "source": [
    "# check the unique values\n",
    "\n",
    "df2['SepalWidthCm'].unique()"
   ]
  },
  {
   "cell_type": "code",
   "execution_count": 21,
   "id": "26b24dc1",
   "metadata": {},
   "outputs": [
    {
     "data": {
      "text/plain": [
       "<Figure size 1800x900 with 0 Axes>"
      ]
     },
     "metadata": {},
     "output_type": "display_data"
    },
    {
     "data": {
      "image/png": "[encoded data removed]",
      "text/plain": [
       "<Figure size 640x480 with 1 Axes>"
      ]
     },
     "metadata": {},
     "output_type": "display_data"
    }
   ],
   "source": [
    "plt.figure(figsize =(20,10), dpi=90)\n",
    "fig, ax = plt.subplots()\n",
    "ax.plot()\n",
    "plt.xticks(rotation=90)\n",
    "sns.countplot(df2,x='SepalWidthCm')\n",
    "plt.title(\"Count Plot for SepalWidth\")\n",
    "plt.show()"
   ]
  },
  {
   "cell_type": "markdown",
   "id": "1b6d4f3e",
   "metadata": {},
   "source": [
    "### Statistical Approach"
   ]
  },
  {
   "cell_type": "code",
   "execution_count": 22,
   "id": "f7a6674a",
   "metadata": {},
   "outputs": [
    {
     "name": "stdout",
     "output_type": "stream",
     "text": [
      "Minimum value of SepalLenth in Cm: 4.3\n",
      "Maximum value of SepalLenth in Cm: 7.9\n",
      "Mean value of SepalLenth  in Cm: 5.843333333333334\n",
      "Median value of SepalLenth in Cm: 5.8\n",
      "Mode value of SepalLenth in Cm: 5.0\n"
     ]
    }
   ],
   "source": [
    "print(\"Minimum value of SepalLenth in Cm:\",df2['SepalLengthCm'].min())\n",
    "print(\"Maximum value of SepalLenth in Cm:\",df2['SepalLengthCm'].max())\n",
    "print(\"Mean value of SepalLenth  in Cm:\",df2['SepalLengthCm'].mean())\n",
    "print(\"Median value of SepalLenth in Cm:\",df2['SepalLengthCm'].median())\n",
    "print(\"Mode value of SepalLenth in Cm:\",df2['SepalLengthCm'].mode()[0])"
   ]
  },
  {
   "cell_type": "code",
   "execution_count": 23,
   "id": "0fe94e56",
   "metadata": {},
   "outputs": [
    {
     "data": {
      "text/plain": [
       "0.3149109566369728"
      ]
     },
     "execution_count": 23,
     "metadata": {},
     "output_type": "execute_result"
    }
   ],
   "source": [
    "# Skewness\n",
    "\n",
    "df2['SepalLengthCm'].skew()"
   ]
  },
  {
   "cell_type": "code",
   "execution_count": 24,
   "id": "0a58310f",
   "metadata": {},
   "outputs": [
    {
     "data": {
      "text/plain": [
       "-0.5520640413156395"
      ]
     },
     "execution_count": 24,
     "metadata": {},
     "output_type": "execute_result"
    }
   ],
   "source": [
    "# Kurtosis\n",
    "\n",
    "df2['SepalLengthCm'].kurt()"
   ]
  },
  {
   "cell_type": "code",
   "execution_count": 25,
   "id": "636f18df",
   "metadata": {},
   "outputs": [
    {
     "data": {
      "text/plain": [
       "0.828066127977863"
      ]
     },
     "execution_count": 25,
     "metadata": {},
     "output_type": "execute_result"
    }
   ],
   "source": [
    "# check Standard deviation of SepalLengthCm\n",
    "\n",
    "df2['SepalLengthCm'].std()"
   ]
  },
  {
   "cell_type": "code",
   "execution_count": 26,
   "id": "a7c3e637",
   "metadata": {},
   "outputs": [
    {
     "data": {
      "image/png": "[encoded data removed]",
      "text/plain": [
       "<Figure size 640x480 with 1 Axes>"
      ]
     },
     "metadata": {},
     "output_type": "display_data"
    }
   ],
   "source": [
    "plt.hist(df2['SepalLengthCm'])\n",
    "plt.title(\"Sepal Length\");"
   ]
  },
  {
   "cell_type": "markdown",
   "id": "7f1bf101",
   "metadata": {},
   "source": [
    "### Test Normality using shapiro-wilk test"
   ]
  },
  {
   "cell_type": "code",
   "execution_count": 27,
   "id": "0e569072",
   "metadata": {},
   "outputs": [
    {
     "name": "stdout",
     "output_type": "stream",
     "text": [
      "stat=0.98, p=0.010180265642702579498291015625\n",
      "Not a Normal Distribution\n"
     ]
    }
   ],
   "source": [
    "# To test the column 'PetalLengthCm'\n",
    "\n",
    "from scipy.stats import shapiro\n",
    "\n",
    "Data_to_test  = df2['SepalLengthCm']\n",
    "stat, p = shapiro(Data_to_test)\n",
    "\n",
    "print('stat=%.2f, p=%.30f' % (stat, p))\n",
    "\n",
    "if p > 0.05:\n",
    "  print('Normal Distribution')\n",
    "else:\n",
    "  print('Not a Normal Distribution')"
   ]
  },
  {
   "cell_type": "markdown",
   "id": "56ecfde1",
   "metadata": {},
   "source": [
    "### Dataset_2 Analysis:\n",
    "\n",
    "#### 1. Importing the dataset.\n",
    "#### 2. The dataset consists of 150 records and 3 features.\n",
    "#### 3. The three features are 'Id', 'SepalLengthCm', and 'SepalWidthCm'.\n",
    "#### 4. 'SepalLengthCm' is of float data type, while 'SepalWidthCm' is of object data type.\n",
    "#### 5. 'SepalLengthCm' falls under the category of quantitative data, with values ranging from 4.3 to 7.9.\n",
    "#### 6. 'SepalWidthCm' is primarily of float data type, but a few rows contain string values, causing inconsistency.\n",
    "#### 7. It is advisable to convert 'SepalWidthCm' to float data type and adjust the corresponding values to ensure consistent data types and gain more valuable insights. For example, converting \"three dot five\" to 3.5.\n",
    "#### 8. Investigating for missing values, it is found that the there are no missing values in the dataset.\n",
    "#### 9. To visualize the distribution of the 'SepalWidthCm' feature, a count plot is used to determine the actual data count.\n",
    "#### 10. Applying statistical methods to the 'SepalLengthCm' feature, the observations are as follows:\n",
    "#### 11. The data is positively skewed, with no prominent peaks observed according to the skewness and kurtosis methods.\n",
    "#### 11. The standard deviation of the 'SepalLengthCm' feature is 0.83.\n",
    "#### 12. By examining the histogram, it can be concluded that the 'SepalLengthCm' feature represents continuous data.\n",
    "#### 13. However, the data within the 'SepalLengthCm' feature does not follow a normal distribution.\n",
    "#### Conclusion: To enhance the analysis, it is recommended to convert the 'SepalWidth' variable to float data type and adjust the corresponding data values. Subsequently, a thorough investigation of the statistical characteristics of sepal width and its relationship with 'SepalLengthCm' should be conducted."
   ]
  },
  {
   "cell_type": "code",
   "execution_count": null,
   "id": "bf132900",
   "metadata": {},
   "outputs": [],
   "source": []
  }
 ],
 "metadata": {
  "kernelspec": {
   "display_name": "Python 3 (ipykernel)",
   "language": "python",
   "name": "python3"
  },
  "language_info": {
   "codemirror_mode": {
    "name": "ipython",
    "version": 3
   },
   "file_extension": ".py",
   "mimetype": "text/x-python",
   "name": "python",
   "nbconvert_exporter": "python",
   "pygments_lexer": "ipython3",
   "version": "3.9.1"
  }
 },
 "nbformat": 4,
 "nbformat_minor": 5
}
