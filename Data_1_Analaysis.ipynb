{
 "cells": [
  {
   "cell_type": "markdown",
   "id": "0f635489",
   "metadata": {},
   "source": [
    "### Import libraries"
   ]
  },
  {
   "cell_type": "code",
   "execution_count": 1,
   "id": "c93e91ce",
   "metadata": {},
   "outputs": [],
   "source": [
    "import pandas as pd\n",
    "import numpy as np\n",
    "import matplotlib.pyplot as plt\n",
    "%matplotlib inline\n",
    "import seaborn as sns\n",
    "\n",
    "\n",
    "import warnings\n",
    "warnings.filterwarnings(action='ignore')"
   ]
  },
  {
   "cell_type": "markdown",
   "id": "8602bff0",
   "metadata": {},
   "source": [
    "#### Required Libraries are imported for the data analysis purpose"
   ]
  },
  {
   "cell_type": "markdown",
   "id": "35da1cfb",
   "metadata": {},
   "source": [
    "### Basic Information about the Iris Flower"
   ]
  },
  {
   "cell_type": "code",
   "execution_count": 2,
   "id": "1bffdcc3",
   "metadata": {},
   "outputs": [
    {
     "data": {
      "image/jpeg": "[encoded data removed]",
      "text/plain": [
       "<IPython.core.display.Image object>"
      ]
     },
     "execution_count": 2,
     "metadata": {},
     "output_type": "execute_result"
    }
   ],
   "source": [
    "from IPython.display import Image\n",
    "Image(filename='../data/iris_2.jpeg')"
   ]
  },
  {
   "cell_type": "code",
   "execution_count": 3,
   "id": "bb553afa",
   "metadata": {},
   "outputs": [
    {
     "data": {
      "image/jpeg": "[encoded data removed]",
      "text/plain": [
       "<IPython.core.display.Image object>"
      ]
     },
     "execution_count": 3,
     "metadata": {},
     "output_type": "execute_result"
    }
   ],
   "source": [
    "Image(filename='../data/iris_3.jpeg')"
   ]
  },
  {
   "cell_type": "markdown",
   "id": "f25d58b3",
   "metadata": {},
   "source": [
    "#### 1. The dataset contains attributes of three different species of Iris flowers: Setosa, Versicolor, and Virginica.\n",
    "#### 2. The dataset provides measurements of four features for each Iris flower: sepal length, sepal width, petal length, and petal width. These measurements are in centimeters and can be used to analyze the physical characteristics of the flowers."
   ]
  },
  {
   "cell_type": "markdown",
   "id": "e60cb4d1",
   "metadata": {},
   "source": [
    "### MySQL connection"
   ]
  },
  {
   "cell_type": "code",
   "execution_count": 4,
   "id": "3b9d2ef7",
   "metadata": {},
   "outputs": [],
   "source": [
    "import mysql.connector as mysql\n",
    "from mysql.connector import Error\n",
    "try:\n",
    "    conn = mysql.connect(host='localhost', user='root', password='root')\n",
    "    \n",
    "    if conn.is_connected():\n",
    "        cursor = conn.cursor()\n",
    "        \n",
    "\n",
    "except Error as e:\n",
    "    print(\"Error while connecting to MySql\", e)"
   ]
  },
  {
   "cell_type": "markdown",
   "id": "20db2549",
   "metadata": {},
   "source": [
    "#### Connect to the MySQL database to import the necessary dataset."
   ]
  },
  {
   "cell_type": "markdown",
   "id": "bef06d14",
   "metadata": {},
   "source": [
    "### Data_Manipulation of first table"
   ]
  },
  {
   "cell_type": "code",
   "execution_count": 5,
   "id": "47cfa448",
   "metadata": {},
   "outputs": [
    {
     "data": {
      "text/html": [
       "<div>\n",
       "<style scoped>\n",
       "    .dataframe tbody tr th:only-of-type {\n",
       "        vertical-align: middle;\n",
       "    }\n",
       "\n",
       "    .dataframe tbody tr th {\n",
       "        vertical-align: top;\n",
       "    }\n",
       "\n",
       "    .dataframe thead th {\n",
       "        text-align: right;\n",
       "    }\n",
       "</style>\n",
       "<table border=\"1\" class=\"dataframe\">\n",
       "  <thead>\n",
       "    <tr style=\"text-align: right;\">\n",
       "      <th></th>\n",
       "      <th>Id</th>\n",
       "      <th>PetalLengthCm</th>\n",
       "      <th>PetalWidthCm</th>\n",
       "    </tr>\n",
       "  </thead>\n",
       "  <tbody>\n",
       "    <tr>\n",
       "      <th>0</th>\n",
       "      <td>1</td>\n",
       "      <td>1.4</td>\n",
       "      <td>0.2</td>\n",
       "    </tr>\n",
       "    <tr>\n",
       "      <th>1</th>\n",
       "      <td>2</td>\n",
       "      <td>1.4</td>\n",
       "      <td>0.2</td>\n",
       "    </tr>\n",
       "    <tr>\n",
       "      <th>2</th>\n",
       "      <td>3</td>\n",
       "      <td>1.3</td>\n",
       "      <td>0.2</td>\n",
       "    </tr>\n",
       "    <tr>\n",
       "      <th>3</th>\n",
       "      <td>4</td>\n",
       "      <td>1.5</td>\n",
       "      <td>0.2</td>\n",
       "    </tr>\n",
       "    <tr>\n",
       "      <th>4</th>\n",
       "      <td>5</td>\n",
       "      <td>1.4</td>\n",
       "      <td>0.2</td>\n",
       "    </tr>\n",
       "    <tr>\n",
       "      <th>...</th>\n",
       "      <td>...</td>\n",
       "      <td>...</td>\n",
       "      <td>...</td>\n",
       "    </tr>\n",
       "    <tr>\n",
       "      <th>145</th>\n",
       "      <td>146</td>\n",
       "      <td>5.2</td>\n",
       "      <td>2.3</td>\n",
       "    </tr>\n",
       "    <tr>\n",
       "      <th>146</th>\n",
       "      <td>147</td>\n",
       "      <td>5.0</td>\n",
       "      <td>1.9</td>\n",
       "    </tr>\n",
       "    <tr>\n",
       "      <th>147</th>\n",
       "      <td>148</td>\n",
       "      <td>5.2</td>\n",
       "      <td>2.0</td>\n",
       "    </tr>\n",
       "    <tr>\n",
       "      <th>148</th>\n",
       "      <td>149</td>\n",
       "      <td>5.4</td>\n",
       "      <td>2.3</td>\n",
       "    </tr>\n",
       "    <tr>\n",
       "      <th>149</th>\n",
       "      <td>150</td>\n",
       "      <td>5.1</td>\n",
       "      <td>1.8</td>\n",
       "    </tr>\n",
       "  </tbody>\n",
       "</table>\n",
       "<p>150 rows × 3 columns</p>\n",
       "</div>"
      ],
      "text/plain": [
       "      Id  PetalLengthCm  PetalWidthCm\n",
       "0      1            1.4           0.2\n",
       "1      2            1.4           0.2\n",
       "2      3            1.3           0.2\n",
       "3      4            1.5           0.2\n",
       "4      5            1.4           0.2\n",
       "..   ...            ...           ...\n",
       "145  146            5.2           2.3\n",
       "146  147            5.0           1.9\n",
       "147  148            5.2           2.0\n",
       "148  149            5.4           2.3\n",
       "149  150            5.1           1.8\n",
       "\n",
       "[150 rows x 3 columns]"
      ]
     },
     "execution_count": 5,
     "metadata": {},
     "output_type": "execute_result"
    }
   ],
   "source": [
    "# import data from SQL\n",
    "\n",
    "data_1 = pd.read_sql(\"SELECT * From iris.d1\", conn)\n",
    "data_1"
   ]
  },
  {
   "cell_type": "markdown",
   "id": "f3c6859e",
   "metadata": {},
   "source": [
    "* Observation: The table contains 3 columns such as Id, PetalLengthCM, PetalWidthCM and 150 rows"
   ]
  },
  {
   "cell_type": "code",
   "execution_count": 6,
   "id": "8dc63e8d",
   "metadata": {},
   "outputs": [
    {
     "data": {
      "text/html": [
       "<div>\n",
       "<style scoped>\n",
       "    .dataframe tbody tr th:only-of-type {\n",
       "        vertical-align: middle;\n",
       "    }\n",
       "\n",
       "    .dataframe tbody tr th {\n",
       "        vertical-align: top;\n",
       "    }\n",
       "\n",
       "    .dataframe thead th {\n",
       "        text-align: right;\n",
       "    }\n",
       "</style>\n",
       "<table border=\"1\" class=\"dataframe\">\n",
       "  <thead>\n",
       "    <tr style=\"text-align: right;\">\n",
       "      <th></th>\n",
       "      <th>Id</th>\n",
       "      <th>PetalLengthCm</th>\n",
       "      <th>PetalWidthCm</th>\n",
       "    </tr>\n",
       "  </thead>\n",
       "  <tbody>\n",
       "    <tr>\n",
       "      <th>0</th>\n",
       "      <td>1</td>\n",
       "      <td>1.4</td>\n",
       "      <td>0.2</td>\n",
       "    </tr>\n",
       "    <tr>\n",
       "      <th>1</th>\n",
       "      <td>2</td>\n",
       "      <td>1.4</td>\n",
       "      <td>0.2</td>\n",
       "    </tr>\n",
       "    <tr>\n",
       "      <th>2</th>\n",
       "      <td>3</td>\n",
       "      <td>1.3</td>\n",
       "      <td>0.2</td>\n",
       "    </tr>\n",
       "    <tr>\n",
       "      <th>3</th>\n",
       "      <td>4</td>\n",
       "      <td>1.5</td>\n",
       "      <td>0.2</td>\n",
       "    </tr>\n",
       "    <tr>\n",
       "      <th>4</th>\n",
       "      <td>5</td>\n",
       "      <td>1.4</td>\n",
       "      <td>0.2</td>\n",
       "    </tr>\n",
       "  </tbody>\n",
       "</table>\n",
       "</div>"
      ],
      "text/plain": [
       "   Id  PetalLengthCm  PetalWidthCm\n",
       "0   1            1.4           0.2\n",
       "1   2            1.4           0.2\n",
       "2   3            1.3           0.2\n",
       "3   4            1.5           0.2\n",
       "4   5            1.4           0.2"
      ]
     },
     "execution_count": 6,
     "metadata": {},
     "output_type": "execute_result"
    }
   ],
   "source": [
    "# check first five rows of the dataset\n",
    "\n",
    "data_1.head()"
   ]
  },
  {
   "cell_type": "code",
   "execution_count": 7,
   "id": "d18ea089",
   "metadata": {},
   "outputs": [
    {
     "data": {
      "text/html": [
       "<div>\n",
       "<style scoped>\n",
       "    .dataframe tbody tr th:only-of-type {\n",
       "        vertical-align: middle;\n",
       "    }\n",
       "\n",
       "    .dataframe tbody tr th {\n",
       "        vertical-align: top;\n",
       "    }\n",
       "\n",
       "    .dataframe thead th {\n",
       "        text-align: right;\n",
       "    }\n",
       "</style>\n",
       "<table border=\"1\" class=\"dataframe\">\n",
       "  <thead>\n",
       "    <tr style=\"text-align: right;\">\n",
       "      <th></th>\n",
       "      <th>Id</th>\n",
       "      <th>PetalLengthCm</th>\n",
       "      <th>PetalWidthCm</th>\n",
       "    </tr>\n",
       "  </thead>\n",
       "  <tbody>\n",
       "    <tr>\n",
       "      <th>145</th>\n",
       "      <td>146</td>\n",
       "      <td>5.2</td>\n",
       "      <td>2.3</td>\n",
       "    </tr>\n",
       "    <tr>\n",
       "      <th>146</th>\n",
       "      <td>147</td>\n",
       "      <td>5.0</td>\n",
       "      <td>1.9</td>\n",
       "    </tr>\n",
       "    <tr>\n",
       "      <th>147</th>\n",
       "      <td>148</td>\n",
       "      <td>5.2</td>\n",
       "      <td>2.0</td>\n",
       "    </tr>\n",
       "    <tr>\n",
       "      <th>148</th>\n",
       "      <td>149</td>\n",
       "      <td>5.4</td>\n",
       "      <td>2.3</td>\n",
       "    </tr>\n",
       "    <tr>\n",
       "      <th>149</th>\n",
       "      <td>150</td>\n",
       "      <td>5.1</td>\n",
       "      <td>1.8</td>\n",
       "    </tr>\n",
       "  </tbody>\n",
       "</table>\n",
       "</div>"
      ],
      "text/plain": [
       "      Id  PetalLengthCm  PetalWidthCm\n",
       "145  146            5.2           2.3\n",
       "146  147            5.0           1.9\n",
       "147  148            5.2           2.0\n",
       "148  149            5.4           2.3\n",
       "149  150            5.1           1.8"
      ]
     },
     "execution_count": 7,
     "metadata": {},
     "output_type": "execute_result"
    }
   ],
   "source": [
    "# check last five rows of the dataset\n",
    "\n",
    "data_1.tail()"
   ]
  },
  {
   "cell_type": "code",
   "execution_count": 8,
   "id": "74fc54db",
   "metadata": {},
   "outputs": [
    {
     "data": {
      "text/plain": [
       "Id                 int64\n",
       "PetalLengthCm    float64\n",
       "PetalWidthCm     float64\n",
       "dtype: object"
      ]
     },
     "execution_count": 8,
     "metadata": {},
     "output_type": "execute_result"
    }
   ],
   "source": [
    "# checking data type of the dataset\n",
    "\n",
    "data_1.dtypes"
   ]
  },
  {
   "cell_type": "markdown",
   "id": "9c9a1bf1",
   "metadata": {},
   "source": [
    "### Observation: \n",
    "#### Dataset contains id column with integer data type and PetalLengthCM & PetalWidthCm are float data types"
   ]
  },
  {
   "cell_type": "code",
   "execution_count": 9,
   "id": "41370311",
   "metadata": {},
   "outputs": [
    {
     "data": {
      "text/plain": [
       "(150, 3)"
      ]
     },
     "execution_count": 9,
     "metadata": {},
     "output_type": "execute_result"
    }
   ],
   "source": [
    "# check the shape of the dataset\n",
    "\n",
    "data_1.shape"
   ]
  },
  {
   "cell_type": "code",
   "execution_count": 10,
   "id": "09900901",
   "metadata": {},
   "outputs": [
    {
     "name": "stdout",
     "output_type": "stream",
     "text": [
      "Number of rows: 150\n",
      "Number of columns: 3\n"
     ]
    }
   ],
   "source": [
    "print(\"Number of rows:\",data_1.shape[0])\n",
    "print(\"Number of columns:\",data_1.shape[1])"
   ]
  },
  {
   "cell_type": "code",
   "execution_count": 11,
   "id": "658f93d9",
   "metadata": {},
   "outputs": [
    {
     "data": {
      "text/plain": [
       "Index(['Id', 'PetalLengthCm', 'PetalWidthCm'], dtype='object')"
      ]
     },
     "execution_count": 11,
     "metadata": {},
     "output_type": "execute_result"
    }
   ],
   "source": [
    "# columns of the dataset\n",
    "\n",
    "data_1.columns"
   ]
  },
  {
   "cell_type": "code",
   "execution_count": 12,
   "id": "9ad486c6",
   "metadata": {},
   "outputs": [
    {
     "name": "stdout",
     "output_type": "stream",
     "text": [
      "<class 'pandas.core.frame.DataFrame'>\n",
      "RangeIndex: 150 entries, 0 to 149\n",
      "Data columns (total 3 columns):\n",
      " #   Column         Non-Null Count  Dtype  \n",
      "---  ------         --------------  -----  \n",
      " 0   Id             150 non-null    int64  \n",
      " 1   PetalLengthCm  150 non-null    float64\n",
      " 2   PetalWidthCm   150 non-null    float64\n",
      "dtypes: float64(2), int64(1)\n",
      "memory usage: 3.6 KB\n"
     ]
    }
   ],
   "source": [
    "# info of the dataset\n",
    "\n",
    "data_1.info()"
   ]
  },
  {
   "cell_type": "markdown",
   "id": "f0ec2250",
   "metadata": {},
   "source": [
    "### Observation: \n",
    "#### There are 150 rows & 3 columns in the dataset, memory usage for the dataset is 3.6kb. int & float are the datatypes"
   ]
  },
  {
   "cell_type": "code",
   "execution_count": 13,
   "id": "8d20be0b",
   "metadata": {},
   "outputs": [
    {
     "data": {
      "text/html": [
       "<div>\n",
       "<style scoped>\n",
       "    .dataframe tbody tr th:only-of-type {\n",
       "        vertical-align: middle;\n",
       "    }\n",
       "\n",
       "    .dataframe tbody tr th {\n",
       "        vertical-align: top;\n",
       "    }\n",
       "\n",
       "    .dataframe thead th {\n",
       "        text-align: right;\n",
       "    }\n",
       "</style>\n",
       "<table border=\"1\" class=\"dataframe\">\n",
       "  <thead>\n",
       "    <tr style=\"text-align: right;\">\n",
       "      <th></th>\n",
       "      <th>count</th>\n",
       "      <th>mean</th>\n",
       "      <th>std</th>\n",
       "      <th>min</th>\n",
       "      <th>25%</th>\n",
       "      <th>50%</th>\n",
       "      <th>75%</th>\n",
       "      <th>max</th>\n",
       "    </tr>\n",
       "  </thead>\n",
       "  <tbody>\n",
       "    <tr>\n",
       "      <th>Id</th>\n",
       "      <td>150.0</td>\n",
       "      <td>75.500000</td>\n",
       "      <td>43.445368</td>\n",
       "      <td>1.0</td>\n",
       "      <td>38.25</td>\n",
       "      <td>75.50</td>\n",
       "      <td>112.75</td>\n",
       "      <td>150.0</td>\n",
       "    </tr>\n",
       "    <tr>\n",
       "      <th>PetalLengthCm</th>\n",
       "      <td>150.0</td>\n",
       "      <td>3.758667</td>\n",
       "      <td>1.764420</td>\n",
       "      <td>1.0</td>\n",
       "      <td>1.60</td>\n",
       "      <td>4.35</td>\n",
       "      <td>5.10</td>\n",
       "      <td>6.9</td>\n",
       "    </tr>\n",
       "    <tr>\n",
       "      <th>PetalWidthCm</th>\n",
       "      <td>150.0</td>\n",
       "      <td>1.198667</td>\n",
       "      <td>0.763161</td>\n",
       "      <td>0.1</td>\n",
       "      <td>0.30</td>\n",
       "      <td>1.30</td>\n",
       "      <td>1.80</td>\n",
       "      <td>2.5</td>\n",
       "    </tr>\n",
       "  </tbody>\n",
       "</table>\n",
       "</div>"
      ],
      "text/plain": [
       "               count       mean        std  min    25%    50%     75%    max\n",
       "Id             150.0  75.500000  43.445368  1.0  38.25  75.50  112.75  150.0\n",
       "PetalLengthCm  150.0   3.758667   1.764420  1.0   1.60   4.35    5.10    6.9\n",
       "PetalWidthCm   150.0   1.198667   0.763161  0.1   0.30   1.30    1.80    2.5"
      ]
     },
     "execution_count": 13,
     "metadata": {},
     "output_type": "execute_result"
    }
   ],
   "source": [
    "# overall statistics of the dataset\n",
    "\n",
    "data_1.describe().T"
   ]
  },
  {
   "cell_type": "markdown",
   "id": "abb5c075",
   "metadata": {},
   "source": [
    "### Observation: \n",
    "#### PetalLengthCM: minimum value is 1.0cm and maximum value is 6.9\n",
    "#### PetalWidthCM: minimum value is 0.1cm and maximum value is 2.5"
   ]
  },
  {
   "cell_type": "code",
   "execution_count": 14,
   "id": "f792c620",
   "metadata": {},
   "outputs": [
    {
     "data": {
      "text/plain": [
       "Id               0\n",
       "PetalLengthCm    0\n",
       "PetalWidthCm     0\n",
       "dtype: int64"
      ]
     },
     "execution_count": 14,
     "metadata": {},
     "output_type": "execute_result"
    }
   ],
   "source": [
    "# Null values\n",
    "\n",
    "data_1.isnull().sum()"
   ]
  },
  {
   "cell_type": "markdown",
   "id": "20e473ca",
   "metadata": {},
   "source": [
    "#### There are no null values in the data set"
   ]
  },
  {
   "cell_type": "code",
   "execution_count": 15,
   "id": "3f358135",
   "metadata": {},
   "outputs": [
    {
     "data": {
      "text/html": [
       "<div>\n",
       "<style scoped>\n",
       "    .dataframe tbody tr th:only-of-type {\n",
       "        vertical-align: middle;\n",
       "    }\n",
       "\n",
       "    .dataframe tbody tr th {\n",
       "        vertical-align: top;\n",
       "    }\n",
       "\n",
       "    .dataframe thead th {\n",
       "        text-align: right;\n",
       "    }\n",
       "</style>\n",
       "<table border=\"1\" class=\"dataframe\">\n",
       "  <thead>\n",
       "    <tr style=\"text-align: right;\">\n",
       "      <th></th>\n",
       "      <th>Id</th>\n",
       "      <th>PetalLengthCm</th>\n",
       "      <th>PetalWidthCm</th>\n",
       "    </tr>\n",
       "  </thead>\n",
       "  <tbody>\n",
       "  </tbody>\n",
       "</table>\n",
       "</div>"
      ],
      "text/plain": [
       "Empty DataFrame\n",
       "Columns: [Id, PetalLengthCm, PetalWidthCm]\n",
       "Index: []"
      ]
     },
     "execution_count": 15,
     "metadata": {},
     "output_type": "execute_result"
    }
   ],
   "source": [
    "# check duplicated values any\n",
    "\n",
    "data_1[data_1.duplicated()]"
   ]
  },
  {
   "cell_type": "markdown",
   "id": "83842c22",
   "metadata": {},
   "source": [
    "####  Observation: There are no duplicated values in the dataset"
   ]
  },
  {
   "cell_type": "markdown",
   "id": "aa461aaf",
   "metadata": {},
   "source": [
    "### Statistical Approach"
   ]
  },
  {
   "cell_type": "code",
   "execution_count": 16,
   "id": "a433f78b",
   "metadata": {},
   "outputs": [
    {
     "name": "stdout",
     "output_type": "stream",
     "text": [
      "Minimum value of PetalLenth in Cm: 1.0\n",
      "Maximum value of PetalLenth in Cm: 6.9\n",
      "Mean value of PetalLenth in Cm: 3.758666666666666\n",
      "Median value of PetalLenth in Cm: 4.35\n",
      "Mode value of PetalLenth in Cm: 1.5\n"
     ]
    }
   ],
   "source": [
    "print(\"Minimum value of PetalLenth in Cm:\",data_1['PetalLengthCm'].min())\n",
    "print(\"Maximum value of PetalLenth in Cm:\",data_1['PetalLengthCm'].max())\n",
    "print(\"Mean value of PetalLenth in Cm:\",data_1['PetalLengthCm'].mean())\n",
    "print(\"Median value of PetalLenth in Cm:\",data_1['PetalLengthCm'].median())\n",
    "print(\"Mode value of PetalLenth in Cm:\",data_1['PetalLengthCm'].mode()[0])"
   ]
  },
  {
   "cell_type": "code",
   "execution_count": 17,
   "id": "16a46903",
   "metadata": {},
   "outputs": [
    {
     "name": "stdout",
     "output_type": "stream",
     "text": [
      "Minimum value of PetalWidth in Cm: 0.1\n",
      "Maximum value of PetalWidth in Cm: 2.5\n",
      "Mean value of PetalWidth in Cm: 1.1986666666666668\n",
      "Median value of PetalWidth in Cm: 1.3\n",
      "Mode value of PetalWidth in Cm: 0.2\n"
     ]
    }
   ],
   "source": [
    "print(\"Minimum value of PetalWidth in Cm:\",data_1['PetalWidthCm'].min())\n",
    "print(\"Maximum value of PetalWidth in Cm:\",data_1['PetalWidthCm'].max())\n",
    "print(\"Mean value of PetalWidth in Cm:\",data_1['PetalWidthCm'].mean())\n",
    "print(\"Median value of PetalWidth in Cm:\",data_1['PetalWidthCm'].median())\n",
    "print(\"Mode value of PetalWidth in Cm:\",data_1['PetalWidthCm'].mode()[0])"
   ]
  },
  {
   "cell_type": "markdown",
   "id": "73411f4c",
   "metadata": {},
   "source": [
    " ### Observation: \n",
    " #### when compared to the petal length and width of iris flower, we can notice that petal length is more in cm."
   ]
  },
  {
   "cell_type": "code",
   "execution_count": 18,
   "id": "dc5b2e20",
   "metadata": {},
   "outputs": [
    {
     "data": {
      "text/plain": [
       "-0.27446425247378287"
      ]
     },
     "execution_count": 18,
     "metadata": {},
     "output_type": "execute_result"
    }
   ],
   "source": [
    "# Skewness\n",
    "\n",
    "data_1['PetalLengthCm'].skew()"
   ]
  },
  {
   "cell_type": "code",
   "execution_count": 19,
   "id": "828dfd45",
   "metadata": {},
   "outputs": [
    {
     "data": {
      "text/plain": [
       "-0.10499656214412734"
      ]
     },
     "execution_count": 19,
     "metadata": {},
     "output_type": "execute_result"
    }
   ],
   "source": [
    "data_1['PetalWidthCm'].skew()"
   ]
  },
  {
   "cell_type": "code",
   "execution_count": 20,
   "id": "17d463e3",
   "metadata": {},
   "outputs": [
    {
     "data": {
      "text/plain": [
       "-1.4019208006454036"
      ]
     },
     "execution_count": 20,
     "metadata": {},
     "output_type": "execute_result"
    }
   ],
   "source": [
    "# Kurtosis\n",
    "\n",
    "data_1['PetalLengthCm'].kurt()"
   ]
  },
  {
   "cell_type": "code",
   "execution_count": 21,
   "id": "23014722",
   "metadata": {},
   "outputs": [
    {
     "data": {
      "text/plain": [
       "-1.3397541711393433"
      ]
     },
     "execution_count": 21,
     "metadata": {},
     "output_type": "execute_result"
    }
   ],
   "source": [
    "data_1['PetalWidthCm'].kurt()"
   ]
  },
  {
   "cell_type": "markdown",
   "id": "78b8566a",
   "metadata": {},
   "source": [
    "### Observation:\n",
    "#### 1. Variables PetalLengthCM & PetalWidthCM are -vely skewed.\n",
    "#### 2. With the help of kurtosis, there is no sharp peak observed."
   ]
  },
  {
   "cell_type": "code",
   "execution_count": 22,
   "id": "2b043535",
   "metadata": {},
   "outputs": [
    {
     "data": {
      "text/plain": [
       "1.7644204199522626"
      ]
     },
     "execution_count": 22,
     "metadata": {},
     "output_type": "execute_result"
    }
   ],
   "source": [
    "# check Standard deviation of PetalLength and PetalWidth\n",
    "\n",
    "data_1['PetalLengthCm'].std()"
   ]
  },
  {
   "cell_type": "code",
   "execution_count": 23,
   "id": "3c31696c",
   "metadata": {},
   "outputs": [
    {
     "data": {
      "text/plain": [
       "0.7631607417008411"
      ]
     },
     "execution_count": 23,
     "metadata": {},
     "output_type": "execute_result"
    }
   ],
   "source": [
    "data_1['PetalWidthCm'].std()"
   ]
  },
  {
   "cell_type": "code",
   "execution_count": 24,
   "id": "a91998f0",
   "metadata": {},
   "outputs": [
    {
     "data": {
      "text/plain": [
       "Text(0.5, 1.0, 'Petal Length')"
      ]
     },
     "execution_count": 24,
     "metadata": {},
     "output_type": "execute_result"
    },
    {
     "data": {
      "image/png": "[encoded data removed]",
      "text/plain": [
       "<Figure size 640x480 with 1 Axes>"
      ]
     },
     "metadata": {},
     "output_type": "display_data"
    }
   ],
   "source": [
    "plt.hist(data_1['PetalLengthCm']);\n",
    "plt.title(\"Petal Length\")"
   ]
  },
  {
   "cell_type": "code",
   "execution_count": 25,
   "id": "a3fe03fe",
   "metadata": {},
   "outputs": [
    {
     "data": {
      "text/plain": [
       "Text(0.5, 1.0, 'Petal Width')"
      ]
     },
     "execution_count": 25,
     "metadata": {},
     "output_type": "execute_result"
    },
    {
     "data": {
      "image/png": "[encoded data removed]",
      "text/plain": [
       "<Figure size 640x480 with 1 Axes>"
      ]
     },
     "metadata": {},
     "output_type": "display_data"
    }
   ],
   "source": [
    "plt.hist(data_1['PetalWidthCm']);\n",
    "plt.title(\"Petal Width\")"
   ]
  },
  {
   "cell_type": "markdown",
   "id": "6154b4cc",
   "metadata": {},
   "source": [
    "### Observation:\n",
    "#### 1. As we can see above histogram, the data belongs to PetalLength and PetalWidth is continuous"
   ]
  },
  {
   "cell_type": "markdown",
   "id": "dc837ba3",
   "metadata": {},
   "source": [
    "### Unique values in the dataset"
   ]
  },
  {
   "cell_type": "code",
   "execution_count": 26,
   "id": "fd691407",
   "metadata": {},
   "outputs": [
    {
     "name": "stdout",
     "output_type": "stream",
     "text": [
      "Number of unique values present in PetalLength: 43\n"
     ]
    }
   ],
   "source": [
    "# check number unique values in the petalLenth feature\n",
    "\n",
    "print(f\"Number of unique values present in PetalLength: {data_1['PetalLengthCm'].nunique()}\")"
   ]
  },
  {
   "cell_type": "code",
   "execution_count": 27,
   "id": "c68e87c7",
   "metadata": {},
   "outputs": [
    {
     "data": {
      "text/plain": [
       "array([1.4, 1.3, 1.5, 1.7, 1.6, 1.1, 1.2, 1. , 1.9, 4.7, 4.5, 4.9, 4. ,\n",
       "       4.6, 3.3, 3.9, 3.5, 4.2, 3.6, 4.4, 4.1, 4.8, 4.3, 5. , 3.8, 3.7,\n",
       "       5.1, 3. , 6. , 5.9, 5.6, 5.8, 6.6, 6.3, 6.1, 5.3, 5.5, 6.7, 6.9,\n",
       "       5.7, 6.4, 5.4, 5.2])"
      ]
     },
     "execution_count": 27,
     "metadata": {},
     "output_type": "execute_result"
    }
   ],
   "source": [
    "# check the unique values\n",
    "\n",
    "data_1['PetalLengthCm'].unique()"
   ]
  },
  {
   "cell_type": "code",
   "execution_count": 28,
   "id": "ce4ad9c4",
   "metadata": {},
   "outputs": [
    {
     "name": "stdout",
     "output_type": "stream",
     "text": [
      "Number of unique values present in PetalWidth: 22\n"
     ]
    }
   ],
   "source": [
    "# check number unique values in the petalWidth feature\n",
    "\n",
    "print(f\"Number of unique values present in PetalWidth: {data_1['PetalWidthCm'].nunique()}\")"
   ]
  },
  {
   "cell_type": "code",
   "execution_count": 29,
   "id": "9474f17e",
   "metadata": {},
   "outputs": [
    {
     "data": {
      "text/plain": [
       "array([0.2, 0.4, 0.3, 0.1, 0.5, 0.6, 1.4, 1.5, 1.3, 1.6, 1. , 1.1, 1.8,\n",
       "       1.2, 1.7, 2.5, 1.9, 2.1, 2.2, 2. , 2.4, 2.3])"
      ]
     },
     "execution_count": 29,
     "metadata": {},
     "output_type": "execute_result"
    }
   ],
   "source": [
    "# check the unique values\n",
    "\n",
    "data_1['PetalWidthCm'].unique()"
   ]
  },
  {
   "cell_type": "markdown",
   "id": "51c82521",
   "metadata": {},
   "source": [
    "### Test Normality using shapiro-wilk test"
   ]
  },
  {
   "cell_type": "code",
   "execution_count": 30,
   "id": "9a36314b",
   "metadata": {},
   "outputs": [
    {
     "name": "stdout",
     "output_type": "stream",
     "text": [
      "stat=0.88, p=0.000000000754518336698595248890\n",
      "Not a Normal Distribution\n"
     ]
    }
   ],
   "source": [
    "# To test the column 'PetalLengthCm'\n",
    "\n",
    "from scipy.stats import shapiro\n",
    "\n",
    "Data_to_test  = data_1['PetalLengthCm']\n",
    "stat, p = shapiro(Data_to_test)\n",
    "\n",
    "print('stat=%.2f, p=%.30f' % (stat, p))\n",
    "\n",
    "if p > 0.05:\n",
    "  print('Normal Distribution')\n",
    "else:\n",
    "  print('Not a Normal Distribution')"
   ]
  },
  {
   "cell_type": "code",
   "execution_count": 31,
   "id": "2e1710ff",
   "metadata": {},
   "outputs": [
    {
     "name": "stdout",
     "output_type": "stream",
     "text": [
      "stat=0.90, p=0.000000018646931110311015800107\n",
      "Not a Normal Distribution\n"
     ]
    }
   ],
   "source": [
    "# To test the column 'PetalWidthCm'\n",
    "\n",
    "Data_to_test  = data_1['PetalWidthCm']\n",
    "stat, p = shapiro(Data_to_test)\n",
    "\n",
    "print('stat=%.2f, p=%.30f' % (stat, p))\n",
    "\n",
    "if p > 0.05:\n",
    "  print('Normal Distribution')\n",
    "else:\n",
    "  print('Not a Normal Distribution')"
   ]
  },
  {
   "cell_type": "markdown",
   "id": "c8330825",
   "metadata": {},
   "source": [
    "### Correlation Test"
   ]
  },
  {
   "cell_type": "code",
   "execution_count": 32,
   "id": "e90f1316",
   "metadata": {},
   "outputs": [
    {
     "data": {
      "image/png": "[encoded data removed]",
      "text/plain": [
       "<Figure size 640x480 with 1 Axes>"
      ]
     },
     "metadata": {},
     "output_type": "display_data"
    }
   ],
   "source": [
    "first_sample = data_1[1:70]['PetalLengthCm']\n",
    "second_sample = data_1[1:70]['PetalWidthCm']\n",
    "\n",
    "plt.plot(first_sample, second_sample)\n",
    "plt.show()"
   ]
  },
  {
   "cell_type": "code",
   "execution_count": 33,
   "id": "c62f056e",
   "metadata": {},
   "outputs": [
    {
     "data": {
      "text/html": [
       "<div>\n",
       "<style scoped>\n",
       "    .dataframe tbody tr th:only-of-type {\n",
       "        vertical-align: middle;\n",
       "    }\n",
       "\n",
       "    .dataframe tbody tr th {\n",
       "        vertical-align: top;\n",
       "    }\n",
       "\n",
       "    .dataframe thead th {\n",
       "        text-align: right;\n",
       "    }\n",
       "</style>\n",
       "<table border=\"1\" class=\"dataframe\">\n",
       "  <thead>\n",
       "    <tr style=\"text-align: right;\">\n",
       "      <th></th>\n",
       "      <th>Id</th>\n",
       "      <th>PetalLengthCm</th>\n",
       "      <th>PetalWidthCm</th>\n",
       "    </tr>\n",
       "  </thead>\n",
       "  <tbody>\n",
       "    <tr>\n",
       "      <th>Id</th>\n",
       "      <td>1.000000</td>\n",
       "      <td>0.882747</td>\n",
       "      <td>0.899759</td>\n",
       "    </tr>\n",
       "    <tr>\n",
       "      <th>PetalLengthCm</th>\n",
       "      <td>0.882747</td>\n",
       "      <td>1.000000</td>\n",
       "      <td>0.962757</td>\n",
       "    </tr>\n",
       "    <tr>\n",
       "      <th>PetalWidthCm</th>\n",
       "      <td>0.899759</td>\n",
       "      <td>0.962757</td>\n",
       "      <td>1.000000</td>\n",
       "    </tr>\n",
       "  </tbody>\n",
       "</table>\n",
       "</div>"
      ],
      "text/plain": [
       "                     Id  PetalLengthCm  PetalWidthCm\n",
       "Id             1.000000       0.882747      0.899759\n",
       "PetalLengthCm  0.882747       1.000000      0.962757\n",
       "PetalWidthCm   0.899759       0.962757      1.000000"
      ]
     },
     "execution_count": 33,
     "metadata": {},
     "output_type": "execute_result"
    }
   ],
   "source": [
    "data_1.corr(method='pearson')"
   ]
  },
  {
   "cell_type": "code",
   "execution_count": 34,
   "id": "8e5f6508",
   "metadata": {},
   "outputs": [
    {
     "name": "stdout",
     "output_type": "stream",
     "text": [
      "stat=0.736, p=0.00000\n",
      "Dependent samples\n"
     ]
    }
   ],
   "source": [
    "# Spearman Rank correlation\n",
    "\n",
    "from scipy.stats import spearmanr\n",
    "stat, p = spearmanr(first_sample, second_sample)\n",
    "\n",
    "print('stat=%.3f, p=%.5f' % (stat, p))\n",
    "\n",
    "if p>0.05:\n",
    "  print('independent samples')\n",
    "else:\n",
    "  print('Dependent samples')"
   ]
  },
  {
   "cell_type": "code",
   "execution_count": 35,
   "id": "79b9f691",
   "metadata": {},
   "outputs": [
    {
     "name": "stdout",
     "output_type": "stream",
     "text": [
      "stat=0.974, p=0.00000\n",
      "Dependent samples\n"
     ]
    }
   ],
   "source": [
    "# Pearsons correlation\n",
    "\n",
    "from scipy.stats import pearsonr\n",
    "stat, p = pearsonr(first_sample, second_sample)\n",
    "\n",
    "print('stat=%.3f, p=%.5f' % (stat, p))\n",
    "\n",
    "if p>0.05:\n",
    "  print('independent samples')\n",
    "else:\n",
    "  print('Dependent samples')"
   ]
  },
  {
   "cell_type": "markdown",
   "id": "42ae2df4",
   "metadata": {},
   "source": [
    "* Observation: \n",
    "* 1. The two samples PetalLengthCM and PetalWidthCm are correlated each other, the correlation value is 0.96 \n",
    "     means there is strong +ve correlation between them.\n",
    "* 2. from spearmann rank correlation and Pearsons correlation, we can see that two variables are dependent each other."
   ]
  },
  {
   "cell_type": "markdown",
   "id": "e0529f19",
   "metadata": {},
   "source": [
    "### Univariate Analysis"
   ]
  },
  {
   "cell_type": "code",
   "execution_count": 36,
   "id": "8b4b1822",
   "metadata": {},
   "outputs": [
    {
     "data": {
      "image/png": "[encoded data removed]",
      "text/plain": [
       "<Figure size 640x480 with 1 Axes>"
      ]
     },
     "metadata": {},
     "output_type": "display_data"
    }
   ],
   "source": [
    "sns.boxplot(data_1['PetalLengthCm']);"
   ]
  },
  {
   "cell_type": "code",
   "execution_count": 37,
   "id": "a9a4a5ab",
   "metadata": {},
   "outputs": [
    {
     "data": {
      "image/png": "[encoded data removed]",
      "text/plain": [
       "<Figure size 640x480 with 1 Axes>"
      ]
     },
     "metadata": {},
     "output_type": "display_data"
    }
   ],
   "source": [
    "sns.boxplot(data_1['PetalWidthCm']);"
   ]
  },
  {
   "cell_type": "markdown",
   "id": "96bf1316",
   "metadata": {},
   "source": [
    "### Dataset_1 Analysis:\n",
    "\n",
    "#### 1. The dataset has been imported for analysis.\n",
    "#### 2. The dataset consists of 150 records and includes 4 features.\n",
    "#### 3. The three features in the dataset are 'Id', PetalLength, PetalWidth.\n",
    "#### 4. 'PetalLengthCm' and 'PetalWidth' are of float data type\n",
    "#### 5. There are no null values in the dataset\n",
    "#### 6. The dataset does not contain any duplicate values.\n",
    "#### 7. Petal Length and Petal Width are continuous data types.\n",
    "#### 9. 'PetalLength' falls under the category of quantitative data, with values ranging from 1.0 to 6.9\n",
    "#### 10. 'PetalWidth' falls under the category of quantitative data, with values ranging from 0.1 to 2.5\n",
    "#### 11. Upon applying statistical methods to the 'PetalLength' and 'PetalWidth' features, the following observations are made: \n",
    "#### 12. The two samples PetalLengthCM and PetalWidthCm are correlated each other, the correlation value is 0.96 means there is strong +ve correlation between them.\n",
    "#### 13. from spearmann rank correlation and Pearsons correlation, we can see that two variables are dependent each other.\n",
    "\n",
    "#### Conclusion: Conclusion: There is a strong correlation between Petal Length and Petal Width, indicating that they are dependent on each other. However, these two features alone are not sufficient for conducting further analysis. Additional features are required to delve deeper into the analysis."
   ]
  },
  {
   "cell_type": "code",
   "execution_count": null,
   "id": "37051aaf",
   "metadata": {},
   "outputs": [],
   "source": []
  }
 ],
 "metadata": {
  "kernelspec": {
   "display_name": "Python 3 (ipykernel)",
   "language": "python",
   "name": "python3"
  },
  "language_info": {
   "codemirror_mode": {
    "name": "ipython",
    "version": 3
   },
   "file_extension": ".py",
   "mimetype": "text/x-python",
   "name": "python",
   "nbconvert_exporter": "python",
   "pygments_lexer": "ipython3",
   "version": "3.9.1"
  }
 },
 "nbformat": 4,
 "nbformat_minor": 5
}
