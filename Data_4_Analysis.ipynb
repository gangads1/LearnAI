{
 "cells": [
  {
   "cell_type": "markdown",
   "id": "428afbae",
   "metadata": {},
   "source": [
    "### Import libraries"
   ]
  },
  {
   "cell_type": "code",
   "execution_count": 1,
   "id": "c26c12be",
   "metadata": {},
   "outputs": [],
   "source": [
    "import pandas as pd\n",
    "import numpy as np\n",
    "import matplotlib.pyplot as plt\n",
    "%matplotlib inline\n",
    "import seaborn as sns\n",
    "\n",
    "\n",
    "import warnings\n",
    "warnings.filterwarnings(action='ignore')"
   ]
  },
  {
   "cell_type": "markdown",
   "id": "7fd4ca46",
   "metadata": {},
   "source": [
    "#### Required Libraries are imported for the data analysis purpose"
   ]
  },
  {
   "cell_type": "markdown",
   "id": "fc19948b",
   "metadata": {},
   "source": [
    "### MySQL connection"
   ]
  },
  {
   "cell_type": "code",
   "execution_count": 2,
   "id": "7b4cd675",
   "metadata": {},
   "outputs": [],
   "source": [
    "import mysql.connector as mysql\n",
    "from mysql.connector import Error\n",
    "try:\n",
    "    conn = mysql.connect(host='localhost', user='root', password='root')\n",
    "    \n",
    "    if conn.is_connected():\n",
    "        cursor = conn.cursor()\n",
    "        \n",
    "\n",
    "except Error as e:\n",
    "    print(\"Error while connecting to MySql\", e)"
   ]
  },
  {
   "cell_type": "markdown",
   "id": "c86d9238",
   "metadata": {},
   "source": [
    "#### Connect to the MySQL database to import the necessary dataset."
   ]
  },
  {
   "cell_type": "code",
   "execution_count": 3,
   "id": "066234ea",
   "metadata": {},
   "outputs": [
    {
     "data": {
      "text/html": [
       "<div>\n",
       "<style scoped>\n",
       "    .dataframe tbody tr th:only-of-type {\n",
       "        vertical-align: middle;\n",
       "    }\n",
       "\n",
       "    .dataframe tbody tr th {\n",
       "        vertical-align: top;\n",
       "    }\n",
       "\n",
       "    .dataframe thead th {\n",
       "        text-align: right;\n",
       "    }\n",
       "</style>\n",
       "<table border=\"1\" class=\"dataframe\">\n",
       "  <thead>\n",
       "    <tr style=\"text-align: right;\">\n",
       "      <th></th>\n",
       "      <th>Id</th>\n",
       "      <th>PetalLengthCm</th>\n",
       "      <th>PetalWidthCm</th>\n",
       "      <th>Species</th>\n",
       "    </tr>\n",
       "  </thead>\n",
       "  <tbody>\n",
       "    <tr>\n",
       "      <th>0</th>\n",
       "      <td>1</td>\n",
       "      <td>1.4</td>\n",
       "      <td>0.2</td>\n",
       "      <td>Iris-setosa</td>\n",
       "    </tr>\n",
       "    <tr>\n",
       "      <th>1</th>\n",
       "      <td>2</td>\n",
       "      <td>1.4</td>\n",
       "      <td>0.2</td>\n",
       "      <td>iris-setosa</td>\n",
       "    </tr>\n",
       "    <tr>\n",
       "      <th>2</th>\n",
       "      <td>3</td>\n",
       "      <td>1.3</td>\n",
       "      <td>0.2</td>\n",
       "      <td>IRIS-SETOSA</td>\n",
       "    </tr>\n",
       "    <tr>\n",
       "      <th>3</th>\n",
       "      <td>4</td>\n",
       "      <td>1.5</td>\n",
       "      <td>0.2</td>\n",
       "      <td>IRISsetosa</td>\n",
       "    </tr>\n",
       "    <tr>\n",
       "      <th>4</th>\n",
       "      <td>5</td>\n",
       "      <td>1.4</td>\n",
       "      <td>0.2</td>\n",
       "      <td>IRIS_SETOSA</td>\n",
       "    </tr>\n",
       "    <tr>\n",
       "      <th>5</th>\n",
       "      <td>6</td>\n",
       "      <td>1.7</td>\n",
       "      <td>0.4</td>\n",
       "      <td>irisSetosa</td>\n",
       "    </tr>\n",
       "    <tr>\n",
       "      <th>6</th>\n",
       "      <td>7</td>\n",
       "      <td>1.4</td>\n",
       "      <td>0.3</td>\n",
       "      <td>IrisSetosa</td>\n",
       "    </tr>\n",
       "    <tr>\n",
       "      <th>7</th>\n",
       "      <td>8</td>\n",
       "      <td>1.5</td>\n",
       "      <td>0.2</td>\n",
       "      <td>iris-setosa</td>\n",
       "    </tr>\n",
       "    <tr>\n",
       "      <th>8</th>\n",
       "      <td>9</td>\n",
       "      <td>1.4</td>\n",
       "      <td>0.2</td>\n",
       "      <td>iri$-$eto$a</td>\n",
       "    </tr>\n",
       "    <tr>\n",
       "      <th>9</th>\n",
       "      <td>10</td>\n",
       "      <td>1.5</td>\n",
       "      <td>0.1</td>\n",
       "      <td>irisSETOSA</td>\n",
       "    </tr>\n",
       "    <tr>\n",
       "      <th>10</th>\n",
       "      <td>11</td>\n",
       "      <td>1.5</td>\n",
       "      <td>0.2</td>\n",
       "      <td>None</td>\n",
       "    </tr>\n",
       "    <tr>\n",
       "      <th>11</th>\n",
       "      <td>12</td>\n",
       "      <td>1.6</td>\n",
       "      <td>0.2</td>\n",
       "      <td>Iris-setesa</td>\n",
       "    </tr>\n",
       "    <tr>\n",
       "      <th>12</th>\n",
       "      <td>13</td>\n",
       "      <td>1.4</td>\n",
       "      <td>0.1</td>\n",
       "      <td>setosa</td>\n",
       "    </tr>\n",
       "    <tr>\n",
       "      <th>13</th>\n",
       "      <td>14</td>\n",
       "      <td>1.1</td>\n",
       "      <td>0.1</td>\n",
       "      <td>Setosa</td>\n",
       "    </tr>\n",
       "    <tr>\n",
       "      <th>14</th>\n",
       "      <td>15</td>\n",
       "      <td>1.2</td>\n",
       "      <td>0.2</td>\n",
       "      <td>SETOSA</td>\n",
       "    </tr>\n",
       "    <tr>\n",
       "      <th>15</th>\n",
       "      <td>16</td>\n",
       "      <td>1.5</td>\n",
       "      <td>0.4</td>\n",
       "      <td>$e+osa</td>\n",
       "    </tr>\n",
       "    <tr>\n",
       "      <th>16</th>\n",
       "      <td>17</td>\n",
       "      <td>1.3</td>\n",
       "      <td>0.4</td>\n",
       "      <td>Iris-setosa</td>\n",
       "    </tr>\n",
       "    <tr>\n",
       "      <th>17</th>\n",
       "      <td>18</td>\n",
       "      <td>1.4</td>\n",
       "      <td>0.3</td>\n",
       "      <td>Iris-setosa</td>\n",
       "    </tr>\n",
       "    <tr>\n",
       "      <th>18</th>\n",
       "      <td>19</td>\n",
       "      <td>1.7</td>\n",
       "      <td>0.3</td>\n",
       "      <td>Iris-setosa</td>\n",
       "    </tr>\n",
       "    <tr>\n",
       "      <th>19</th>\n",
       "      <td>20</td>\n",
       "      <td>1.5</td>\n",
       "      <td>0.3</td>\n",
       "      <td>Iris-setosa</td>\n",
       "    </tr>\n",
       "    <tr>\n",
       "      <th>20</th>\n",
       "      <td>21</td>\n",
       "      <td>1.7</td>\n",
       "      <td>0.2</td>\n",
       "      <td>Iris-setosa</td>\n",
       "    </tr>\n",
       "    <tr>\n",
       "      <th>21</th>\n",
       "      <td>22</td>\n",
       "      <td>1.5</td>\n",
       "      <td>0.4</td>\n",
       "      <td>Iris-setosa</td>\n",
       "    </tr>\n",
       "    <tr>\n",
       "      <th>22</th>\n",
       "      <td>23</td>\n",
       "      <td>1.0</td>\n",
       "      <td>0.2</td>\n",
       "      <td>Iris-setosa</td>\n",
       "    </tr>\n",
       "    <tr>\n",
       "      <th>23</th>\n",
       "      <td>24</td>\n",
       "      <td>1.7</td>\n",
       "      <td>0.5</td>\n",
       "      <td>Iris-setosa</td>\n",
       "    </tr>\n",
       "    <tr>\n",
       "      <th>24</th>\n",
       "      <td>25</td>\n",
       "      <td>1.9</td>\n",
       "      <td>0.2</td>\n",
       "      <td>Iris-setosa</td>\n",
       "    </tr>\n",
       "    <tr>\n",
       "      <th>25</th>\n",
       "      <td>26</td>\n",
       "      <td>1.6</td>\n",
       "      <td>0.2</td>\n",
       "      <td>Iris-setosa</td>\n",
       "    </tr>\n",
       "    <tr>\n",
       "      <th>26</th>\n",
       "      <td>27</td>\n",
       "      <td>1.6</td>\n",
       "      <td>0.4</td>\n",
       "      <td>Iris-setosa</td>\n",
       "    </tr>\n",
       "    <tr>\n",
       "      <th>27</th>\n",
       "      <td>28</td>\n",
       "      <td>1.5</td>\n",
       "      <td>0.2</td>\n",
       "      <td>Iris-setosa</td>\n",
       "    </tr>\n",
       "    <tr>\n",
       "      <th>28</th>\n",
       "      <td>29</td>\n",
       "      <td>1.4</td>\n",
       "      <td>0.2</td>\n",
       "      <td>Iris-setosa</td>\n",
       "    </tr>\n",
       "    <tr>\n",
       "      <th>29</th>\n",
       "      <td>30</td>\n",
       "      <td>1.6</td>\n",
       "      <td>0.2</td>\n",
       "      <td>Iris-setosa</td>\n",
       "    </tr>\n",
       "    <tr>\n",
       "      <th>30</th>\n",
       "      <td>31</td>\n",
       "      <td>1.6</td>\n",
       "      <td>0.2</td>\n",
       "      <td>Iris-setosa</td>\n",
       "    </tr>\n",
       "    <tr>\n",
       "      <th>31</th>\n",
       "      <td>32</td>\n",
       "      <td>1.5</td>\n",
       "      <td>0.4</td>\n",
       "      <td>Iris-setosa</td>\n",
       "    </tr>\n",
       "    <tr>\n",
       "      <th>32</th>\n",
       "      <td>33</td>\n",
       "      <td>1.5</td>\n",
       "      <td>0.1</td>\n",
       "      <td>Iris-setosa</td>\n",
       "    </tr>\n",
       "    <tr>\n",
       "      <th>33</th>\n",
       "      <td>34</td>\n",
       "      <td>1.4</td>\n",
       "      <td>0.2</td>\n",
       "      <td>Iris-setosa</td>\n",
       "    </tr>\n",
       "    <tr>\n",
       "      <th>34</th>\n",
       "      <td>35</td>\n",
       "      <td>1.5</td>\n",
       "      <td>0.1</td>\n",
       "      <td>Iris-setosa</td>\n",
       "    </tr>\n",
       "    <tr>\n",
       "      <th>35</th>\n",
       "      <td>36</td>\n",
       "      <td>1.2</td>\n",
       "      <td>0.2</td>\n",
       "      <td>Iris-setosa</td>\n",
       "    </tr>\n",
       "    <tr>\n",
       "      <th>36</th>\n",
       "      <td>37</td>\n",
       "      <td>1.3</td>\n",
       "      <td>0.2</td>\n",
       "      <td>Iris-setosa</td>\n",
       "    </tr>\n",
       "    <tr>\n",
       "      <th>37</th>\n",
       "      <td>38</td>\n",
       "      <td>1.5</td>\n",
       "      <td>0.1</td>\n",
       "      <td>Iris-setosa</td>\n",
       "    </tr>\n",
       "    <tr>\n",
       "      <th>38</th>\n",
       "      <td>39</td>\n",
       "      <td>1.3</td>\n",
       "      <td>0.2</td>\n",
       "      <td>Iris-setosa</td>\n",
       "    </tr>\n",
       "    <tr>\n",
       "      <th>39</th>\n",
       "      <td>40</td>\n",
       "      <td>1.5</td>\n",
       "      <td>0.2</td>\n",
       "      <td>Iris-setosa</td>\n",
       "    </tr>\n",
       "    <tr>\n",
       "      <th>40</th>\n",
       "      <td>41</td>\n",
       "      <td>1.3</td>\n",
       "      <td>0.3</td>\n",
       "      <td>Iris-setosa</td>\n",
       "    </tr>\n",
       "    <tr>\n",
       "      <th>41</th>\n",
       "      <td>42</td>\n",
       "      <td>1.3</td>\n",
       "      <td>0.3</td>\n",
       "      <td>Iris-setosa</td>\n",
       "    </tr>\n",
       "    <tr>\n",
       "      <th>42</th>\n",
       "      <td>43</td>\n",
       "      <td>1.3</td>\n",
       "      <td>0.2</td>\n",
       "      <td>Iris-setosa</td>\n",
       "    </tr>\n",
       "    <tr>\n",
       "      <th>43</th>\n",
       "      <td>44</td>\n",
       "      <td>1.6</td>\n",
       "      <td>0.6</td>\n",
       "      <td>Iris-setosa</td>\n",
       "    </tr>\n",
       "    <tr>\n",
       "      <th>44</th>\n",
       "      <td>45</td>\n",
       "      <td>1.9</td>\n",
       "      <td>0.4</td>\n",
       "      <td>Iris-setosa</td>\n",
       "    </tr>\n",
       "    <tr>\n",
       "      <th>45</th>\n",
       "      <td>46</td>\n",
       "      <td>1.4</td>\n",
       "      <td>0.3</td>\n",
       "      <td>Iris-setosa</td>\n",
       "    </tr>\n",
       "    <tr>\n",
       "      <th>46</th>\n",
       "      <td>47</td>\n",
       "      <td>1.6</td>\n",
       "      <td>0.2</td>\n",
       "      <td>Iris-setosa</td>\n",
       "    </tr>\n",
       "    <tr>\n",
       "      <th>47</th>\n",
       "      <td>48</td>\n",
       "      <td>1.4</td>\n",
       "      <td>0.2</td>\n",
       "      <td>Iris-setosa</td>\n",
       "    </tr>\n",
       "    <tr>\n",
       "      <th>48</th>\n",
       "      <td>49</td>\n",
       "      <td>1.5</td>\n",
       "      <td>0.2</td>\n",
       "      <td>Iris-setosa</td>\n",
       "    </tr>\n",
       "    <tr>\n",
       "      <th>49</th>\n",
       "      <td>50</td>\n",
       "      <td>1.4</td>\n",
       "      <td>0.2</td>\n",
       "      <td>Iris-setosa</td>\n",
       "    </tr>\n",
       "  </tbody>\n",
       "</table>\n",
       "</div>"
      ],
      "text/plain": [
       "    Id  PetalLengthCm  PetalWidthCm      Species\n",
       "0    1            1.4           0.2  Iris-setosa\n",
       "1    2            1.4           0.2  iris-setosa\n",
       "2    3            1.3           0.2  IRIS-SETOSA\n",
       "3    4            1.5           0.2   IRISsetosa\n",
       "4    5            1.4           0.2  IRIS_SETOSA\n",
       "5    6            1.7           0.4   irisSetosa\n",
       "6    7            1.4           0.3   IrisSetosa\n",
       "7    8            1.5           0.2  iris-setosa\n",
       "8    9            1.4           0.2  iri$-$eto$a\n",
       "9   10            1.5           0.1   irisSETOSA\n",
       "10  11            1.5           0.2         None\n",
       "11  12            1.6           0.2  Iris-setesa\n",
       "12  13            1.4           0.1       setosa\n",
       "13  14            1.1           0.1       Setosa\n",
       "14  15            1.2           0.2       SETOSA\n",
       "15  16            1.5           0.4       $e+osa\n",
       "16  17            1.3           0.4  Iris-setosa\n",
       "17  18            1.4           0.3  Iris-setosa\n",
       "18  19            1.7           0.3  Iris-setosa\n",
       "19  20            1.5           0.3  Iris-setosa\n",
       "20  21            1.7           0.2  Iris-setosa\n",
       "21  22            1.5           0.4  Iris-setosa\n",
       "22  23            1.0           0.2  Iris-setosa\n",
       "23  24            1.7           0.5  Iris-setosa\n",
       "24  25            1.9           0.2  Iris-setosa\n",
       "25  26            1.6           0.2  Iris-setosa\n",
       "26  27            1.6           0.4  Iris-setosa\n",
       "27  28            1.5           0.2  Iris-setosa\n",
       "28  29            1.4           0.2  Iris-setosa\n",
       "29  30            1.6           0.2  Iris-setosa\n",
       "30  31            1.6           0.2  Iris-setosa\n",
       "31  32            1.5           0.4  Iris-setosa\n",
       "32  33            1.5           0.1  Iris-setosa\n",
       "33  34            1.4           0.2  Iris-setosa\n",
       "34  35            1.5           0.1  Iris-setosa\n",
       "35  36            1.2           0.2  Iris-setosa\n",
       "36  37            1.3           0.2  Iris-setosa\n",
       "37  38            1.5           0.1  Iris-setosa\n",
       "38  39            1.3           0.2  Iris-setosa\n",
       "39  40            1.5           0.2  Iris-setosa\n",
       "40  41            1.3           0.3  Iris-setosa\n",
       "41  42            1.3           0.3  Iris-setosa\n",
       "42  43            1.3           0.2  Iris-setosa\n",
       "43  44            1.6           0.6  Iris-setosa\n",
       "44  45            1.9           0.4  Iris-setosa\n",
       "45  46            1.4           0.3  Iris-setosa\n",
       "46  47            1.6           0.2  Iris-setosa\n",
       "47  48            1.4           0.2  Iris-setosa\n",
       "48  49            1.5           0.2  Iris-setosa\n",
       "49  50            1.4           0.2  Iris-setosa"
      ]
     },
     "execution_count": 3,
     "metadata": {},
     "output_type": "execute_result"
    }
   ],
   "source": [
    "# import data from SQL\n",
    "\n",
    "df4 = pd.read_sql(\"SELECT * From iris.d4\", conn)\n",
    "df4"
   ]
  },
  {
   "cell_type": "code",
   "execution_count": 4,
   "id": "78c4108c",
   "metadata": {},
   "outputs": [
    {
     "data": {
      "text/html": [
       "<div>\n",
       "<style scoped>\n",
       "    .dataframe tbody tr th:only-of-type {\n",
       "        vertical-align: middle;\n",
       "    }\n",
       "\n",
       "    .dataframe tbody tr th {\n",
       "        vertical-align: top;\n",
       "    }\n",
       "\n",
       "    .dataframe thead th {\n",
       "        text-align: right;\n",
       "    }\n",
       "</style>\n",
       "<table border=\"1\" class=\"dataframe\">\n",
       "  <thead>\n",
       "    <tr style=\"text-align: right;\">\n",
       "      <th></th>\n",
       "      <th>Id</th>\n",
       "      <th>PetalLengthCm</th>\n",
       "      <th>PetalWidthCm</th>\n",
       "      <th>Species</th>\n",
       "    </tr>\n",
       "  </thead>\n",
       "  <tbody>\n",
       "    <tr>\n",
       "      <th>0</th>\n",
       "      <td>1</td>\n",
       "      <td>1.4</td>\n",
       "      <td>0.2</td>\n",
       "      <td>Iris-setosa</td>\n",
       "    </tr>\n",
       "    <tr>\n",
       "      <th>1</th>\n",
       "      <td>2</td>\n",
       "      <td>1.4</td>\n",
       "      <td>0.2</td>\n",
       "      <td>iris-setosa</td>\n",
       "    </tr>\n",
       "    <tr>\n",
       "      <th>2</th>\n",
       "      <td>3</td>\n",
       "      <td>1.3</td>\n",
       "      <td>0.2</td>\n",
       "      <td>IRIS-SETOSA</td>\n",
       "    </tr>\n",
       "    <tr>\n",
       "      <th>3</th>\n",
       "      <td>4</td>\n",
       "      <td>1.5</td>\n",
       "      <td>0.2</td>\n",
       "      <td>IRISsetosa</td>\n",
       "    </tr>\n",
       "    <tr>\n",
       "      <th>4</th>\n",
       "      <td>5</td>\n",
       "      <td>1.4</td>\n",
       "      <td>0.2</td>\n",
       "      <td>IRIS_SETOSA</td>\n",
       "    </tr>\n",
       "  </tbody>\n",
       "</table>\n",
       "</div>"
      ],
      "text/plain": [
       "   Id  PetalLengthCm  PetalWidthCm      Species\n",
       "0   1            1.4           0.2  Iris-setosa\n",
       "1   2            1.4           0.2  iris-setosa\n",
       "2   3            1.3           0.2  IRIS-SETOSA\n",
       "3   4            1.5           0.2   IRISsetosa\n",
       "4   5            1.4           0.2  IRIS_SETOSA"
      ]
     },
     "execution_count": 4,
     "metadata": {},
     "output_type": "execute_result"
    }
   ],
   "source": [
    "# check first five rows of the dataset\n",
    "\n",
    "df4.head()"
   ]
  },
  {
   "cell_type": "code",
   "execution_count": 5,
   "id": "684b986d",
   "metadata": {},
   "outputs": [
    {
     "data": {
      "text/html": [
       "<div>\n",
       "<style scoped>\n",
       "    .dataframe tbody tr th:only-of-type {\n",
       "        vertical-align: middle;\n",
       "    }\n",
       "\n",
       "    .dataframe tbody tr th {\n",
       "        vertical-align: top;\n",
       "    }\n",
       "\n",
       "    .dataframe thead th {\n",
       "        text-align: right;\n",
       "    }\n",
       "</style>\n",
       "<table border=\"1\" class=\"dataframe\">\n",
       "  <thead>\n",
       "    <tr style=\"text-align: right;\">\n",
       "      <th></th>\n",
       "      <th>Id</th>\n",
       "      <th>PetalLengthCm</th>\n",
       "      <th>PetalWidthCm</th>\n",
       "      <th>Species</th>\n",
       "    </tr>\n",
       "  </thead>\n",
       "  <tbody>\n",
       "    <tr>\n",
       "      <th>45</th>\n",
       "      <td>46</td>\n",
       "      <td>1.4</td>\n",
       "      <td>0.3</td>\n",
       "      <td>Iris-setosa</td>\n",
       "    </tr>\n",
       "    <tr>\n",
       "      <th>46</th>\n",
       "      <td>47</td>\n",
       "      <td>1.6</td>\n",
       "      <td>0.2</td>\n",
       "      <td>Iris-setosa</td>\n",
       "    </tr>\n",
       "    <tr>\n",
       "      <th>47</th>\n",
       "      <td>48</td>\n",
       "      <td>1.4</td>\n",
       "      <td>0.2</td>\n",
       "      <td>Iris-setosa</td>\n",
       "    </tr>\n",
       "    <tr>\n",
       "      <th>48</th>\n",
       "      <td>49</td>\n",
       "      <td>1.5</td>\n",
       "      <td>0.2</td>\n",
       "      <td>Iris-setosa</td>\n",
       "    </tr>\n",
       "    <tr>\n",
       "      <th>49</th>\n",
       "      <td>50</td>\n",
       "      <td>1.4</td>\n",
       "      <td>0.2</td>\n",
       "      <td>Iris-setosa</td>\n",
       "    </tr>\n",
       "  </tbody>\n",
       "</table>\n",
       "</div>"
      ],
      "text/plain": [
       "    Id  PetalLengthCm  PetalWidthCm      Species\n",
       "45  46            1.4           0.3  Iris-setosa\n",
       "46  47            1.6           0.2  Iris-setosa\n",
       "47  48            1.4           0.2  Iris-setosa\n",
       "48  49            1.5           0.2  Iris-setosa\n",
       "49  50            1.4           0.2  Iris-setosa"
      ]
     },
     "execution_count": 5,
     "metadata": {},
     "output_type": "execute_result"
    }
   ],
   "source": [
    "# check last five rows of the dataset\n",
    "\n",
    "df4.tail()"
   ]
  },
  {
   "cell_type": "code",
   "execution_count": 6,
   "id": "ed7b3ae5",
   "metadata": {},
   "outputs": [
    {
     "data": {
      "text/plain": [
       "Id                 int64\n",
       "PetalLengthCm    float64\n",
       "PetalWidthCm     float64\n",
       "Species           object\n",
       "dtype: object"
      ]
     },
     "execution_count": 6,
     "metadata": {},
     "output_type": "execute_result"
    }
   ],
   "source": [
    "# checking data type of the dataset\n",
    "\n",
    "df4.dtypes"
   ]
  },
  {
   "cell_type": "markdown",
   "id": "c5ffd0d0",
   "metadata": {},
   "source": [
    "### Observation:\n",
    "#### Dataset contains id column with integer data type, PetalLength, PetalWidth are float data types and Species with object data type"
   ]
  },
  {
   "cell_type": "code",
   "execution_count": 7,
   "id": "ede7a86e",
   "metadata": {},
   "outputs": [
    {
     "data": {
      "text/plain": [
       "(50, 4)"
      ]
     },
     "execution_count": 7,
     "metadata": {},
     "output_type": "execute_result"
    }
   ],
   "source": [
    "# check the shape of the dataset\n",
    "\n",
    "df4.shape"
   ]
  },
  {
   "cell_type": "code",
   "execution_count": 8,
   "id": "6d826170",
   "metadata": {},
   "outputs": [
    {
     "name": "stdout",
     "output_type": "stream",
     "text": [
      "Number of rows: 50\n",
      "Number of columns: 4\n"
     ]
    }
   ],
   "source": [
    "print(\"Number of rows:\",df4.shape[0])\n",
    "print(\"Number of columns:\",df4.shape[1])"
   ]
  },
  {
   "cell_type": "code",
   "execution_count": 9,
   "id": "1a0fc7a8",
   "metadata": {},
   "outputs": [
    {
     "data": {
      "text/plain": [
       "Index(['Id', 'PetalLengthCm', 'PetalWidthCm', 'Species'], dtype='object')"
      ]
     },
     "execution_count": 9,
     "metadata": {},
     "output_type": "execute_result"
    }
   ],
   "source": [
    "# columns of the dataset\n",
    "\n",
    "df4.columns"
   ]
  },
  {
   "cell_type": "code",
   "execution_count": 10,
   "id": "ac8ef11a",
   "metadata": {},
   "outputs": [
    {
     "name": "stdout",
     "output_type": "stream",
     "text": [
      "<class 'pandas.core.frame.DataFrame'>\n",
      "RangeIndex: 50 entries, 0 to 49\n",
      "Data columns (total 4 columns):\n",
      " #   Column         Non-Null Count  Dtype  \n",
      "---  ------         --------------  -----  \n",
      " 0   Id             50 non-null     int64  \n",
      " 1   PetalLengthCm  50 non-null     float64\n",
      " 2   PetalWidthCm   50 non-null     float64\n",
      " 3   Species        49 non-null     object \n",
      "dtypes: float64(2), int64(1), object(1)\n",
      "memory usage: 1.7+ KB\n"
     ]
    }
   ],
   "source": [
    "# info of the dataset\n",
    "\n",
    "df4.info()"
   ]
  },
  {
   "cell_type": "markdown",
   "id": "8dd55000",
   "metadata": {},
   "source": [
    "### Observation:\n",
    "#### There are 50 rows & 4 columns in the dataset, memory usage for the dataset is 1.7kb. int, float & object are the datatypes."
   ]
  },
  {
   "cell_type": "code",
   "execution_count": 11,
   "id": "e3867865",
   "metadata": {},
   "outputs": [
    {
     "data": {
      "text/html": [
       "<div>\n",
       "<style scoped>\n",
       "    .dataframe tbody tr th:only-of-type {\n",
       "        vertical-align: middle;\n",
       "    }\n",
       "\n",
       "    .dataframe tbody tr th {\n",
       "        vertical-align: top;\n",
       "    }\n",
       "\n",
       "    .dataframe thead th {\n",
       "        text-align: right;\n",
       "    }\n",
       "</style>\n",
       "<table border=\"1\" class=\"dataframe\">\n",
       "  <thead>\n",
       "    <tr style=\"text-align: right;\">\n",
       "      <th></th>\n",
       "      <th>count</th>\n",
       "      <th>unique</th>\n",
       "      <th>top</th>\n",
       "      <th>freq</th>\n",
       "      <th>mean</th>\n",
       "      <th>std</th>\n",
       "      <th>min</th>\n",
       "      <th>25%</th>\n",
       "      <th>50%</th>\n",
       "      <th>75%</th>\n",
       "      <th>max</th>\n",
       "    </tr>\n",
       "  </thead>\n",
       "  <tbody>\n",
       "    <tr>\n",
       "      <th>Id</th>\n",
       "      <td>50.0</td>\n",
       "      <td>NaN</td>\n",
       "      <td>NaN</td>\n",
       "      <td>NaN</td>\n",
       "      <td>25.5</td>\n",
       "      <td>14.57738</td>\n",
       "      <td>1.0</td>\n",
       "      <td>13.25</td>\n",
       "      <td>25.5</td>\n",
       "      <td>37.75</td>\n",
       "      <td>50.0</td>\n",
       "    </tr>\n",
       "    <tr>\n",
       "      <th>PetalLengthCm</th>\n",
       "      <td>50.0</td>\n",
       "      <td>NaN</td>\n",
       "      <td>NaN</td>\n",
       "      <td>NaN</td>\n",
       "      <td>1.464</td>\n",
       "      <td>0.173511</td>\n",
       "      <td>1.0</td>\n",
       "      <td>1.4</td>\n",
       "      <td>1.5</td>\n",
       "      <td>1.575</td>\n",
       "      <td>1.9</td>\n",
       "    </tr>\n",
       "    <tr>\n",
       "      <th>PetalWidthCm</th>\n",
       "      <td>50.0</td>\n",
       "      <td>NaN</td>\n",
       "      <td>NaN</td>\n",
       "      <td>NaN</td>\n",
       "      <td>0.244</td>\n",
       "      <td>0.10721</td>\n",
       "      <td>0.1</td>\n",
       "      <td>0.2</td>\n",
       "      <td>0.2</td>\n",
       "      <td>0.3</td>\n",
       "      <td>0.6</td>\n",
       "    </tr>\n",
       "    <tr>\n",
       "      <th>Species</th>\n",
       "      <td>49</td>\n",
       "      <td>14</td>\n",
       "      <td>Iris-setosa</td>\n",
       "      <td>35</td>\n",
       "      <td>NaN</td>\n",
       "      <td>NaN</td>\n",
       "      <td>NaN</td>\n",
       "      <td>NaN</td>\n",
       "      <td>NaN</td>\n",
       "      <td>NaN</td>\n",
       "      <td>NaN</td>\n",
       "    </tr>\n",
       "  </tbody>\n",
       "</table>\n",
       "</div>"
      ],
      "text/plain": [
       "              count unique          top freq   mean       std  min    25%   \n",
       "Id             50.0    NaN          NaN  NaN   25.5  14.57738  1.0  13.25  \\\n",
       "PetalLengthCm  50.0    NaN          NaN  NaN  1.464  0.173511  1.0    1.4   \n",
       "PetalWidthCm   50.0    NaN          NaN  NaN  0.244   0.10721  0.1    0.2   \n",
       "Species          49     14  Iris-setosa   35    NaN       NaN  NaN    NaN   \n",
       "\n",
       "                50%    75%   max  \n",
       "Id             25.5  37.75  50.0  \n",
       "PetalLengthCm   1.5  1.575   1.9  \n",
       "PetalWidthCm    0.2    0.3   0.6  \n",
       "Species         NaN    NaN   NaN  "
      ]
     },
     "execution_count": 11,
     "metadata": {},
     "output_type": "execute_result"
    }
   ],
   "source": [
    "# overall statistics of the dataset\n",
    "\n",
    "df4.describe(include='all').T"
   ]
  },
  {
   "cell_type": "code",
   "execution_count": 12,
   "id": "ca2d49e7",
   "metadata": {},
   "outputs": [
    {
     "data": {
      "text/plain": [
       "Id               0\n",
       "PetalLengthCm    0\n",
       "PetalWidthCm     0\n",
       "Species          1\n",
       "dtype: int64"
      ]
     },
     "execution_count": 12,
     "metadata": {},
     "output_type": "execute_result"
    }
   ],
   "source": [
    "# Null values\n",
    "\n",
    "df4.isnull().sum()"
   ]
  },
  {
   "cell_type": "code",
   "execution_count": 13,
   "id": "ee42d674",
   "metadata": {},
   "outputs": [
    {
     "data": {
      "image/png": "[encoded data removed]",
      "text/plain": [
       "<Figure size 640x480 with 2 Axes>"
      ]
     },
     "metadata": {},
     "output_type": "display_data"
    }
   ],
   "source": [
    "sns.heatmap(df4.isnull());"
   ]
  },
  {
   "cell_type": "markdown",
   "id": "fbbc252c",
   "metadata": {},
   "source": [
    "#### There are null values in the dataset"
   ]
  },
  {
   "cell_type": "code",
   "execution_count": 14,
   "id": "a485d37a",
   "metadata": {},
   "outputs": [
    {
     "data": {
      "text/html": [
       "<div>\n",
       "<style scoped>\n",
       "    .dataframe tbody tr th:only-of-type {\n",
       "        vertical-align: middle;\n",
       "    }\n",
       "\n",
       "    .dataframe tbody tr th {\n",
       "        vertical-align: top;\n",
       "    }\n",
       "\n",
       "    .dataframe thead th {\n",
       "        text-align: right;\n",
       "    }\n",
       "</style>\n",
       "<table border=\"1\" class=\"dataframe\">\n",
       "  <thead>\n",
       "    <tr style=\"text-align: right;\">\n",
       "      <th></th>\n",
       "      <th>Id</th>\n",
       "      <th>PetalLengthCm</th>\n",
       "      <th>PetalWidthCm</th>\n",
       "      <th>Species</th>\n",
       "    </tr>\n",
       "  </thead>\n",
       "  <tbody>\n",
       "  </tbody>\n",
       "</table>\n",
       "</div>"
      ],
      "text/plain": [
       "Empty DataFrame\n",
       "Columns: [Id, PetalLengthCm, PetalWidthCm, Species]\n",
       "Index: []"
      ]
     },
     "execution_count": 14,
     "metadata": {},
     "output_type": "execute_result"
    }
   ],
   "source": [
    "# check duplicated values any\n",
    "\n",
    "df4[df4.duplicated()]"
   ]
  },
  {
   "cell_type": "code",
   "execution_count": 15,
   "id": "7b3618d1",
   "metadata": {},
   "outputs": [
    {
     "data": {
      "text/plain": [
       "0"
      ]
     },
     "execution_count": 15,
     "metadata": {},
     "output_type": "execute_result"
    }
   ],
   "source": [
    "df4.duplicated().sum()"
   ]
  },
  {
   "cell_type": "markdown",
   "id": "be359ffb",
   "metadata": {},
   "source": [
    "#### Observation: There are no duplicated values in the dataset"
   ]
  },
  {
   "cell_type": "markdown",
   "id": "7c6231b9",
   "metadata": {},
   "source": [
    "### Value_counts"
   ]
  },
  {
   "cell_type": "code",
   "execution_count": 16,
   "id": "4fd6359e",
   "metadata": {},
   "outputs": [
    {
     "data": {
      "text/plain": [
       "PetalLengthCm\n",
       "1.5    14\n",
       "1.4    12\n",
       "1.3     7\n",
       "1.6     7\n",
       "1.7     4\n",
       "1.2     2\n",
       "1.9     2\n",
       "1.1     1\n",
       "1.0     1\n",
       "Name: count, dtype: int64"
      ]
     },
     "execution_count": 16,
     "metadata": {},
     "output_type": "execute_result"
    }
   ],
   "source": [
    "# value counts of dataset\n",
    "\n",
    "df4['PetalLengthCm'].value_counts()"
   ]
  },
  {
   "cell_type": "code",
   "execution_count": 17,
   "id": "141b3322",
   "metadata": {},
   "outputs": [
    {
     "data": {
      "text/plain": [
       "PetalWidthCm\n",
       "0.2    28\n",
       "0.4     7\n",
       "0.3     7\n",
       "0.1     6\n",
       "0.5     1\n",
       "0.6     1\n",
       "Name: count, dtype: int64"
      ]
     },
     "execution_count": 17,
     "metadata": {},
     "output_type": "execute_result"
    }
   ],
   "source": [
    "df4['PetalWidthCm'].value_counts()"
   ]
  },
  {
   "cell_type": "code",
   "execution_count": 18,
   "id": "411f4d25",
   "metadata": {},
   "outputs": [
    {
     "data": {
      "text/plain": [
       "Species\n",
       "Iris-setosa    35\n",
       "iris-setosa     2\n",
       "IRIS-SETOSA     1\n",
       "IRISsetosa      1\n",
       "IRIS_SETOSA     1\n",
       "irisSetosa      1\n",
       "IrisSetosa      1\n",
       "iri$-$eto$a     1\n",
       "irisSETOSA      1\n",
       "Iris-setesa     1\n",
       "setosa          1\n",
       "Setosa          1\n",
       "SETOSA          1\n",
       "$e+osa          1\n",
       "Name: count, dtype: int64"
      ]
     },
     "execution_count": 18,
     "metadata": {},
     "output_type": "execute_result"
    }
   ],
   "source": [
    "df4['Species'].value_counts()"
   ]
  },
  {
   "cell_type": "markdown",
   "id": "e13ffebe",
   "metadata": {},
   "source": [
    "### Unique values in the dataset"
   ]
  },
  {
   "cell_type": "code",
   "execution_count": 19,
   "id": "5db79298",
   "metadata": {},
   "outputs": [
    {
     "name": "stdout",
     "output_type": "stream",
     "text": [
      "Number of unique values present in PetalLength: 9\n"
     ]
    }
   ],
   "source": [
    "# check number unique values in the PetalLength feature\n",
    "\n",
    "print(f\"Number of unique values present in PetalLength: {df4['PetalLengthCm'].nunique()}\")"
   ]
  },
  {
   "cell_type": "code",
   "execution_count": 20,
   "id": "3c42eea7",
   "metadata": {},
   "outputs": [
    {
     "data": {
      "text/plain": [
       "array([1.4, 1.3, 1.5, 1.7, 1.6, 1.1, 1.2, 1. , 1.9])"
      ]
     },
     "execution_count": 20,
     "metadata": {},
     "output_type": "execute_result"
    }
   ],
   "source": [
    "# check the unique values\n",
    "\n",
    "df4['PetalLengthCm'].unique()"
   ]
  },
  {
   "cell_type": "code",
   "execution_count": 21,
   "id": "9580206f",
   "metadata": {},
   "outputs": [
    {
     "name": "stdout",
     "output_type": "stream",
     "text": [
      "Number of unique values present in PetalWidth: 6\n"
     ]
    }
   ],
   "source": [
    "# check number unique values in the PetalWidth feature\n",
    "\n",
    "print(f\"Number of unique values present in PetalWidth: {df4['PetalWidthCm'].nunique()}\")"
   ]
  },
  {
   "cell_type": "code",
   "execution_count": 22,
   "id": "92329b73",
   "metadata": {},
   "outputs": [
    {
     "data": {
      "text/plain": [
       "array([0.2, 0.4, 0.3, 0.1, 0.5, 0.6])"
      ]
     },
     "execution_count": 22,
     "metadata": {},
     "output_type": "execute_result"
    }
   ],
   "source": [
    "# check the unique values\n",
    "\n",
    "df4['PetalWidthCm'].unique()"
   ]
  },
  {
   "cell_type": "code",
   "execution_count": 23,
   "id": "1fda9946",
   "metadata": {},
   "outputs": [
    {
     "name": "stdout",
     "output_type": "stream",
     "text": [
      "Number of unique values present in Species: 14\n"
     ]
    }
   ],
   "source": [
    "# check number unique values in the Species feature\n",
    "\n",
    "print(f\"Number of unique values present in Species: {df4['Species'].nunique()}\")"
   ]
  },
  {
   "cell_type": "code",
   "execution_count": 24,
   "id": "23a759e0",
   "metadata": {},
   "outputs": [
    {
     "data": {
      "text/plain": [
       "array(['Iris-setosa', 'iris-setosa', 'IRIS-SETOSA', 'IRISsetosa',\n",
       "       'IRIS_SETOSA', 'irisSetosa', 'IrisSetosa', 'iri$-$eto$a',\n",
       "       'irisSETOSA', None, 'Iris-setesa', 'setosa', 'Setosa', 'SETOSA',\n",
       "       '$e+osa'], dtype=object)"
      ]
     },
     "execution_count": 24,
     "metadata": {},
     "output_type": "execute_result"
    }
   ],
   "source": [
    "# check the unique values\n",
    "\n",
    "df4['Species'].unique()"
   ]
  },
  {
   "cell_type": "code",
   "execution_count": 25,
   "id": "3c0c712b",
   "metadata": {},
   "outputs": [
    {
     "data": {
      "text/plain": [
       "<Figure size 1800x900 with 0 Axes>"
      ]
     },
     "metadata": {},
     "output_type": "display_data"
    },
    {
     "data": {
      "image/png": "[encoded data removed]",
      "text/plain": [
       "<Figure size 640x480 with 1 Axes>"
      ]
     },
     "metadata": {},
     "output_type": "display_data"
    }
   ],
   "source": [
    "plt.figure(figsize =(20,10), dpi=90)\n",
    "fig, ax = plt.subplots()\n",
    "ax.plot()\n",
    "plt.xticks(rotation=90)\n",
    "sns.countplot(df4,x='Species')\n",
    "plt.title(\"Count Plot for Species\")\n",
    "plt.show()"
   ]
  },
  {
   "cell_type": "code",
   "execution_count": 26,
   "id": "5d8ac54f",
   "metadata": {},
   "outputs": [
    {
     "data": {
      "text/plain": [
       "Species\n",
       "Iris-setosa    70.0\n",
       "iris-setosa     4.0\n",
       "IRIS-SETOSA     2.0\n",
       "IRISsetosa      2.0\n",
       "IRIS_SETOSA     2.0\n",
       "irisSetosa      2.0\n",
       "IrisSetosa      2.0\n",
       "iri$-$eto$a     2.0\n",
       "irisSETOSA      2.0\n",
       "Iris-setesa     2.0\n",
       "setosa          2.0\n",
       "Setosa          2.0\n",
       "SETOSA          2.0\n",
       "$e+osa          2.0\n",
       "Name: count, dtype: float64"
      ]
     },
     "execution_count": 26,
     "metadata": {},
     "output_type": "execute_result"
    }
   ],
   "source": [
    "# percentage of each individual row\n",
    "\n",
    "(df4['Species'].value_counts())*100/len(df4)"
   ]
  },
  {
   "cell_type": "markdown",
   "id": "fe3d8ba7",
   "metadata": {},
   "source": [
    "### Statistical Approach"
   ]
  },
  {
   "cell_type": "code",
   "execution_count": 27,
   "id": "843ac197",
   "metadata": {},
   "outputs": [
    {
     "name": "stdout",
     "output_type": "stream",
     "text": [
      "Minimum value of PetalLenth in Cm: 1.0\n",
      "Maximum value of PetalLenth in Cm: 1.9\n",
      "Mean value of PetalLenth in Cm: 1.464\n",
      "Median value of PetalLenth in Cm: 1.5\n",
      "Mode value of PetalLenth in Cm: 1.5\n"
     ]
    }
   ],
   "source": [
    "print(\"Minimum value of PetalLenth in Cm:\",df4['PetalLengthCm'].min())\n",
    "print(\"Maximum value of PetalLenth in Cm:\",df4['PetalLengthCm'].max())\n",
    "print(\"Mean value of PetalLenth in Cm:\",df4['PetalLengthCm'].mean())\n",
    "print(\"Median value of PetalLenth in Cm:\",df4['PetalLengthCm'].median())\n",
    "print(\"Mode value of PetalLenth in Cm:\",df4['PetalLengthCm'].mode()[0])"
   ]
  },
  {
   "cell_type": "code",
   "execution_count": 28,
   "id": "c1e6bbb2",
   "metadata": {},
   "outputs": [
    {
     "name": "stdout",
     "output_type": "stream",
     "text": [
      "Minimum value of PetalWidth in Cm: 0.1\n",
      "Maximum value of PetalWidth in Cm: 0.6\n",
      "Mean value of PetalWidth in Cm: 0.244\n",
      "Median value of PetalWidth in Cm: 0.2\n",
      "Mode value of PetalWidth in Cm: 0.2\n"
     ]
    }
   ],
   "source": [
    "print(\"Minimum value of PetalWidth in Cm:\",df4['PetalWidthCm'].min())\n",
    "print(\"Maximum value of PetalWidth in Cm:\",df4['PetalWidthCm'].max())\n",
    "print(\"Mean value of PetalWidth in Cm:\",df4['PetalWidthCm'].mean())\n",
    "print(\"Median value of PetalWidth in Cm:\",df4['PetalWidthCm'].median())\n",
    "print(\"Mode value of PetalWidth in Cm:\",df4['PetalWidthCm'].mode()[0])"
   ]
  },
  {
   "cell_type": "markdown",
   "id": "e7bb3067",
   "metadata": {},
   "source": [
    "#### Observation:\n",
    "#### when compared to the petal length and width of iris flower, we can notice that petal length is more in cm."
   ]
  },
  {
   "cell_type": "code",
   "execution_count": 29,
   "id": "94a05773",
   "metadata": {},
   "outputs": [
    {
     "data": {
      "text/plain": [
       "0.07184613560973103"
      ]
     },
     "execution_count": 29,
     "metadata": {},
     "output_type": "execute_result"
    }
   ],
   "source": [
    "# Skewness\n",
    "\n",
    "df4['PetalLengthCm'].skew()"
   ]
  },
  {
   "cell_type": "code",
   "execution_count": 30,
   "id": "483fa98d",
   "metadata": {},
   "outputs": [
    {
     "data": {
      "text/plain": [
       "1.1972429698312048"
      ]
     },
     "execution_count": 30,
     "metadata": {},
     "output_type": "execute_result"
    }
   ],
   "source": [
    "df4['PetalWidthCm'].skew()"
   ]
  },
  {
   "cell_type": "code",
   "execution_count": 31,
   "id": "c7eee671",
   "metadata": {},
   "outputs": [
    {
     "data": {
      "text/plain": [
       "1.031626129131217"
      ]
     },
     "execution_count": 31,
     "metadata": {},
     "output_type": "execute_result"
    }
   ],
   "source": [
    "# Kurtosis\n",
    "\n",
    "df4['PetalLengthCm'].kurt()"
   ]
  },
  {
   "cell_type": "code",
   "execution_count": 32,
   "id": "3e7acc5e",
   "metadata": {},
   "outputs": [
    {
     "data": {
      "text/plain": [
       "1.5664416078903205"
      ]
     },
     "execution_count": 32,
     "metadata": {},
     "output_type": "execute_result"
    }
   ],
   "source": [
    "df4['PetalWidthCm'].kurt()"
   ]
  },
  {
   "cell_type": "code",
   "execution_count": 33,
   "id": "198386d4",
   "metadata": {},
   "outputs": [
    {
     "data": {
      "image/png": "[encoded data removed]",
      "text/plain": [
       "<Figure size 640x480 with 1 Axes>"
      ]
     },
     "metadata": {},
     "output_type": "display_data"
    }
   ],
   "source": [
    "sns.distplot(df4.PetalLengthCm)\n",
    "plt.title(\"Petal Length\");"
   ]
  },
  {
   "cell_type": "code",
   "execution_count": 34,
   "id": "1f1ec450",
   "metadata": {},
   "outputs": [
    {
     "data": {
      "image/png": "[encoded data removed]",
      "text/plain": [
       "<Figure size 640x480 with 1 Axes>"
      ]
     },
     "metadata": {},
     "output_type": "display_data"
    }
   ],
   "source": [
    "sns.distplot(df4.PetalWidthCm)\n",
    "plt.title(\"Petal Width\");"
   ]
  },
  {
   "cell_type": "markdown",
   "id": "6f752736",
   "metadata": {},
   "source": [
    "#### we can notice from the graphs that Petal Length is properly distributed and there are outliers in the dataset\n",
    "#### where as Petal width is not ditributed properly and there are outliers in the feature\n",
    "#### But in both cases we can notice that there is sharp peak is observed."
   ]
  },
  {
   "cell_type": "code",
   "execution_count": 43,
   "id": "03a50087",
   "metadata": {},
   "outputs": [
    {
     "data": {
      "image/png": "[encoded data removed]",
      "text/plain": [
       "<Figure size 640x480 with 1 Axes>"
      ]
     },
     "metadata": {},
     "output_type": "display_data"
    }
   ],
   "source": [
    "sns.boxplot(df4.PetalWidthCm)\n",
    "plt.title(\"Petal Width\");"
   ]
  },
  {
   "cell_type": "code",
   "execution_count": 42,
   "id": "10b0ed81",
   "metadata": {},
   "outputs": [
    {
     "data": {
      "image/png": "[encoded data removed]",
      "text/plain": [
       "<Figure size 640x480 with 1 Axes>"
      ]
     },
     "metadata": {},
     "output_type": "display_data"
    }
   ],
   "source": [
    "sns.boxplot(df4.PetalLengthCm)\n",
    "plt.title(\"Petal Length\");"
   ]
  },
  {
   "cell_type": "markdown",
   "id": "57c60d89",
   "metadata": {},
   "source": [
    "### Lets check the Normality\n",
    "#### Test Normality using shapiro-wilk test"
   ]
  },
  {
   "cell_type": "code",
   "execution_count": 37,
   "id": "93050002",
   "metadata": {},
   "outputs": [
    {
     "name": "stdout",
     "output_type": "stream",
     "text": [
      "stat=0.95, p=0.054648224264383316040039062500\n",
      "Normal Distribution\n"
     ]
    }
   ],
   "source": [
    "# To test the column 'PetalLengthCm'\n",
    "\n",
    "from scipy.stats import shapiro\n",
    "\n",
    "Data_to_test  = df4['PetalLengthCm']\n",
    "stat, p = shapiro(Data_to_test)\n",
    "\n",
    "print('stat=%.2f, p=%.30f' % (stat, p))\n",
    "\n",
    "if p > 0.05:\n",
    "  print('Normal Distribution')\n",
    "else:\n",
    "  print('Not a Normal Distribution')"
   ]
  },
  {
   "cell_type": "code",
   "execution_count": 38,
   "id": "ecbf9b88",
   "metadata": {},
   "outputs": [
    {
     "name": "stdout",
     "output_type": "stream",
     "text": [
      "stat=0.81, p=0.000001852512241384829394519329\n",
      "Not a Normal Distribution\n"
     ]
    }
   ],
   "source": [
    "# To test the column 'PetalLengthCm'\n",
    "\n",
    "from scipy.stats import shapiro\n",
    "\n",
    "Data_to_test  = df4['PetalWidthCm']\n",
    "stat, p = shapiro(Data_to_test)\n",
    "\n",
    "print('stat=%.2f, p=%.30f' % (stat, p))\n",
    "\n",
    "if p > 0.05:\n",
    "  print('Normal Distribution')\n",
    "else:\n",
    "  print('Not a Normal Distribution')"
   ]
  },
  {
   "cell_type": "markdown",
   "id": "2227b444",
   "metadata": {},
   "source": [
    "### Correlation Test"
   ]
  },
  {
   "cell_type": "code",
   "execution_count": 39,
   "id": "577d4ab6",
   "metadata": {},
   "outputs": [
    {
     "data": {
      "image/png": "[encoded data removed]",
      "text/plain": [
       "<Figure size 640x480 with 1 Axes>"
      ]
     },
     "metadata": {},
     "output_type": "display_data"
    }
   ],
   "source": [
    "first_sample = df4[1:70]['PetalLengthCm']\n",
    "second_sample = df4[1:70]['PetalWidthCm']\n",
    "\n",
    "plt.plot(first_sample, second_sample)\n",
    "plt.show()"
   ]
  },
  {
   "cell_type": "code",
   "execution_count": 40,
   "id": "9e015c66",
   "metadata": {},
   "outputs": [
    {
     "data": {
      "text/html": [
       "<div>\n",
       "<style scoped>\n",
       "    .dataframe tbody tr th:only-of-type {\n",
       "        vertical-align: middle;\n",
       "    }\n",
       "\n",
       "    .dataframe tbody tr th {\n",
       "        vertical-align: top;\n",
       "    }\n",
       "\n",
       "    .dataframe thead th {\n",
       "        text-align: right;\n",
       "    }\n",
       "</style>\n",
       "<table border=\"1\" class=\"dataframe\">\n",
       "  <thead>\n",
       "    <tr style=\"text-align: right;\">\n",
       "      <th></th>\n",
       "      <th>PetalLengthCm</th>\n",
       "      <th>PetalWidthCm</th>\n",
       "    </tr>\n",
       "  </thead>\n",
       "  <tbody>\n",
       "    <tr>\n",
       "      <th>PetalLengthCm</th>\n",
       "      <td>1.000000</td>\n",
       "      <td>0.306308</td>\n",
       "    </tr>\n",
       "    <tr>\n",
       "      <th>PetalWidthCm</th>\n",
       "      <td>0.306308</td>\n",
       "      <td>1.000000</td>\n",
       "    </tr>\n",
       "  </tbody>\n",
       "</table>\n",
       "</div>"
      ],
      "text/plain": [
       "               PetalLengthCm  PetalWidthCm\n",
       "PetalLengthCm       1.000000      0.306308\n",
       "PetalWidthCm        0.306308      1.000000"
      ]
     },
     "execution_count": 40,
     "metadata": {},
     "output_type": "execute_result"
    }
   ],
   "source": [
    "df4[['PetalLengthCm','PetalWidthCm']].corr(method='pearson')"
   ]
  },
  {
   "cell_type": "code",
   "execution_count": 41,
   "id": "6e427d33",
   "metadata": {},
   "outputs": [
    {
     "name": "stdout",
     "output_type": "stream",
     "text": [
      "stat=0.229, p=0.11392\n",
      "independent samples\n"
     ]
    }
   ],
   "source": [
    "# Spearman Rank correlation\n",
    "\n",
    "from scipy.stats import spearmanr\n",
    "stat, p = spearmanr(first_sample, second_sample)\n",
    "\n",
    "print('stat=%.3f, p=%.5f' % (stat, p))\n",
    "\n",
    "if p>0.05:\n",
    "  print('independent samples')\n",
    "else:\n",
    "  print('Dependent samples')"
   ]
  },
  {
   "cell_type": "markdown",
   "id": "3e3baf9a",
   "metadata": {},
   "source": [
    "#### Observation: \n",
    "#### 1. The two samples PetalLengthCM and PetalWidthCm are not correlated each other, the correlation value is 0.31 means there is no correlation between them.\n",
    "#### 2. from spearmann rank correlation we can see that two variables are independent each other.\n",
    "#### 3. Whereas PetalLength is normally ditsributed and PetalWidth is not normally distributed."
   ]
  },
  {
   "cell_type": "markdown",
   "id": "17a024f6",
   "metadata": {},
   "source": [
    "### Dataset_4 Analysis:\n",
    "\n",
    "#### 1. The dataset has been imported for analysis.\n",
    "#### 2. The dataset consists of 50 records and includes 4 features.\n",
    "#### 3. The four features in the dataset are 'Id', PetalLength, PetalWidth, and 'Species'.\n",
    "#### 4. 'PetalLengthCm' and 'PetalWidth' are of float data type, while 'Species' is of object data type.\n",
    "#### 5. There is 1 null value present in the dataset, specifically in the Species column, which needs to be replaced with proper data.\n",
    "#### 6. The dataset does not contain any duplicate values.\n",
    "#### 7. Petal Length and Petal Width are continuous data types, while Species is a categorical type.\n",
    "#### 8. The count plot reveals that the category 'Iris-setosa' comprises approximately 70% of the dataset, while the remaining categories, which are similar to Iris-setosa but with special characters, make up less than 4%. It is recommended to modify the data falling within the below 4% range to 'Iris-setosa'.\n",
    "#### 9. 'PetalLength' falls under the category of quantitative data, with values ranging from 1.0 to 1.9.\n",
    "#### 10. 'PetalWidth' falls under the category of quantitative data, with values ranging from 0.1 to 0.6.\n",
    "#### 11. Upon applying statistical methods to the 'PetalLength' and 'PetalWidth' features, the following observations are made:\n",
    "#### 12. PetalLength data is normally distributed, while PetalWidth data is not normally distributed.\n",
    "#### 13. The two samples, PetalLengthCM and PetalWidthCm, are not correlated with each other, as the correlation value is 0.31, indicating no significant correlation between them.\n",
    "#### 14. Spearman rank correlation analysis reveals that the two variables are independent of each other.\n",
    "\n",
    "#### Conclusion: There is no correlation between Petal Length and Petal Width; they are independent of each other. However, to gain more insights from the data, it is recommended to modify the Species column to 'Iris-setosa'. Additionally, since the data lacks patterns and variance, further analysis would require additional features."
   ]
  },
  {
   "cell_type": "code",
   "execution_count": null,
   "id": "650279bf",
   "metadata": {},
   "outputs": [],
   "source": []
  }
 ],
 "metadata": {
  "kernelspec": {
   "display_name": "Python 3 (ipykernel)",
   "language": "python",
   "name": "python3"
  },
  "language_info": {
   "codemirror_mode": {
    "name": "ipython",
    "version": 3
   },
   "file_extension": ".py",
   "mimetype": "text/x-python",
   "name": "python",
   "nbconvert_exporter": "python",
   "pygments_lexer": "ipython3",
   "version": "3.9.1"
  }
 },
 "nbformat": 4,
 "nbformat_minor": 5
}
